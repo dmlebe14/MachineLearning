{
 "cells": [
  {
   "cell_type": "code",
   "execution_count": 1,
   "id": "3614b413",
   "metadata": {
    "_cell_guid": "b1076dfc-b9ad-4769-8c92-a6c4dae69d19",
    "_uuid": "8f2839f25d086af736a60e9eeb907d3b93b6e0e5",
    "execution": {
     "iopub.execute_input": "2023-10-22T15:45:33.531295Z",
     "iopub.status.busy": "2023-10-22T15:45:33.530892Z",
     "iopub.status.idle": "2023-10-22T15:45:36.261655Z",
     "shell.execute_reply": "2023-10-22T15:45:36.260790Z"
    },
    "papermill": {
     "duration": 2.741586,
     "end_time": "2023-10-22T15:45:36.264608",
     "exception": false,
     "start_time": "2023-10-22T15:45:33.523022",
     "status": "completed"
    },
    "tags": []
   },
   "outputs": [
    {
     "name": "stdout",
     "output_type": "stream",
     "text": [
      "/kaggle/input/genre-classification-dataset-imdb/Genre Classification Dataset/description.txt\n",
      "/kaggle/input/genre-classification-dataset-imdb/Genre Classification Dataset/test_data_solution.txt\n",
      "/kaggle/input/genre-classification-dataset-imdb/Genre Classification Dataset/test_data.txt\n",
      "/kaggle/input/genre-classification-dataset-imdb/Genre Classification Dataset/train_data.txt\n"
     ]
    }
   ],
   "source": [
    "# This Python 3 environment comes with many helpful analytics libraries installed\n",
    "# It is defined by the kaggle/python Docker image: https://github.com/kaggle/docker-python\n",
    "# For example, here's several helpful packages to load\n",
    "\n",
    "import numpy as np\n",
    "import pandas as pd\n",
    "import seaborn as sns\n",
    "import matplotlib.pyplot as plt\n",
    "from sklearn.ensemble import RandomForestClassifier\n",
    "from sklearn.preprocessing import LabelEncoder, OneHotEncoder\n",
    "\n",
    "# Input data files are available in the read-only \"../input/\" directory\n",
    "# For example, running this (by clicking run or pressing Shift+Enter) will list all files under the input directory\n",
    "\n",
    "import os\n",
    "for dirname, _, filenames in os.walk('/kaggle/input'):\n",
    "    for filename in filenames:\n",
    "        print(os.path.join(dirname, filename))\n",
    "\n",
    "# You can write up to 20GB to the current directory (/kaggle/working/) that gets preserved as output when you create a version using \"Save & Run All\" \n",
    "# You can also write temporary files to /kaggle/temp/, but they won't be saved outside of the current session"
   ]
  },
  {
   "cell_type": "code",
   "execution_count": 2,
   "id": "1f15fb5d",
   "metadata": {
    "execution": {
     "iopub.execute_input": "2023-10-22T15:45:36.279971Z",
     "iopub.status.busy": "2023-10-22T15:45:36.279083Z",
     "iopub.status.idle": "2023-10-22T15:45:38.517412Z",
     "shell.execute_reply": "2023-10-22T15:45:38.516133Z"
    },
    "papermill": {
     "duration": 2.248246,
     "end_time": "2023-10-22T15:45:38.520277",
     "exception": false,
     "start_time": "2023-10-22T15:45:36.272031",
     "status": "completed"
    },
    "tags": []
   },
   "outputs": [],
   "source": [
    "with open(\"/kaggle/input/genre-classification-dataset-imdb/Genre Classification Dataset/train_data.txt\", \"rb\") as file:\n",
    "    train_text = file.read().decode('utf-8').lower()\n",
    "with open(\"/kaggle/input/genre-classification-dataset-imdb/Genre Classification Dataset/test_data.txt\", \"rb\") as file:\n",
    "    test_text = file.read().decode('utf-8').lower()"
   ]
  },
  {
   "cell_type": "code",
   "execution_count": 3,
   "id": "db7def07",
   "metadata": {
    "execution": {
     "iopub.execute_input": "2023-10-22T15:45:38.534323Z",
     "iopub.status.busy": "2023-10-22T15:45:38.533905Z",
     "iopub.status.idle": "2023-10-22T15:45:38.799602Z",
     "shell.execute_reply": "2023-10-22T15:45:38.798308Z"
    },
    "papermill": {
     "duration": 0.276697,
     "end_time": "2023-10-22T15:45:38.802374",
     "exception": false,
     "start_time": "2023-10-22T15:45:38.525677",
     "status": "completed"
    },
    "tags": []
   },
   "outputs": [],
   "source": [
    "rows = train_text.split(\":::\")\n",
    "\n",
    "# Split the data into lines based on \"\\n\"\n",
    "lines = train_text.split(\"\\n\")\n",
    "\n",
    "# Initialize empty lists for the four columns\n",
    "column1 = []\n",
    "column2 = []\n",
    "column3 = []\n",
    "column4 = []\n",
    "\n",
    "# Split each line into four columns based on the delimiter \":::\"\n",
    "for line in lines:\n",
    "    columns = line.split(\":::\")\n",
    "    if len(columns) == 4:\n",
    "        column1.append(columns[0])\n",
    "        column2.append(columns[1])\n",
    "        column3.append(columns[2])\n",
    "        column4.append(columns[3])"
   ]
  },
  {
   "cell_type": "code",
   "execution_count": 4,
   "id": "461f0e28",
   "metadata": {
    "execution": {
     "iopub.execute_input": "2023-10-22T15:45:38.814569Z",
     "iopub.status.busy": "2023-10-22T15:45:38.814162Z",
     "iopub.status.idle": "2023-10-22T15:45:38.901042Z",
     "shell.execute_reply": "2023-10-22T15:45:38.899933Z"
    },
    "papermill": {
     "duration": 0.095835,
     "end_time": "2023-10-22T15:45:38.903606",
     "exception": false,
     "start_time": "2023-10-22T15:45:38.807771",
     "status": "completed"
    },
    "tags": []
   },
   "outputs": [
    {
     "data": {
      "text/html": [
       "<div>\n",
       "<style scoped>\n",
       "    .dataframe tbody tr th:only-of-type {\n",
       "        vertical-align: middle;\n",
       "    }\n",
       "\n",
       "    .dataframe tbody tr th {\n",
       "        vertical-align: top;\n",
       "    }\n",
       "\n",
       "    .dataframe thead th {\n",
       "        text-align: right;\n",
       "    }\n",
       "</style>\n",
       "<table border=\"1\" class=\"dataframe\">\n",
       "  <thead>\n",
       "    <tr style=\"text-align: right;\">\n",
       "      <th></th>\n",
       "      <th>name</th>\n",
       "      <th>genre</th>\n",
       "      <th>description</th>\n",
       "    </tr>\n",
       "  </thead>\n",
       "  <tbody>\n",
       "    <tr>\n",
       "      <th>0</th>\n",
       "      <td>oscar et la dame rose</td>\n",
       "      <td>drama</td>\n",
       "      <td>listening in to a conversation between his do...</td>\n",
       "    </tr>\n",
       "    <tr>\n",
       "      <th>1</th>\n",
       "      <td>cupid</td>\n",
       "      <td>thriller</td>\n",
       "      <td>a brother and sister with a past incestuous r...</td>\n",
       "    </tr>\n",
       "    <tr>\n",
       "      <th>2</th>\n",
       "      <td>young, wild and wonderful</td>\n",
       "      <td>adult</td>\n",
       "      <td>as the bus empties the students for their fie...</td>\n",
       "    </tr>\n",
       "    <tr>\n",
       "      <th>3</th>\n",
       "      <td>the secret sin</td>\n",
       "      <td>drama</td>\n",
       "      <td>to help their unemployed father make ends mee...</td>\n",
       "    </tr>\n",
       "    <tr>\n",
       "      <th>4</th>\n",
       "      <td>the unrecovered</td>\n",
       "      <td>drama</td>\n",
       "      <td>the film's title refers not only to the un-re...</td>\n",
       "    </tr>\n",
       "    <tr>\n",
       "      <th>...</th>\n",
       "      <td>...</td>\n",
       "      <td>...</td>\n",
       "      <td>...</td>\n",
       "    </tr>\n",
       "    <tr>\n",
       "      <th>54209</th>\n",
       "      <td>\"bonino\"</td>\n",
       "      <td>comedy</td>\n",
       "      <td>this short-lived nbc live sitcom centered on ...</td>\n",
       "    </tr>\n",
       "    <tr>\n",
       "      <th>54210</th>\n",
       "      <td>dead girls don't cry</td>\n",
       "      <td>horror</td>\n",
       "      <td>the next generation of exploitation. the sist...</td>\n",
       "    </tr>\n",
       "    <tr>\n",
       "      <th>54211</th>\n",
       "      <td>ronald goedemondt: ze bestaan echt</td>\n",
       "      <td>documentary</td>\n",
       "      <td>ze bestaan echt, is a stand-up comedy about g...</td>\n",
       "    </tr>\n",
       "    <tr>\n",
       "      <th>54212</th>\n",
       "      <td>make your own bed</td>\n",
       "      <td>comedy</td>\n",
       "      <td>walter and vivian live in the country and hav...</td>\n",
       "    </tr>\n",
       "    <tr>\n",
       "      <th>54213</th>\n",
       "      <td>nature's fury: storm of the century</td>\n",
       "      <td>history</td>\n",
       "      <td>on labor day weekend, 1935, the most intense ...</td>\n",
       "    </tr>\n",
       "  </tbody>\n",
       "</table>\n",
       "<p>54214 rows × 3 columns</p>\n",
       "</div>"
      ],
      "text/plain": [
       "                                       name          genre  \\\n",
       "0                     oscar et la dame rose         drama    \n",
       "1                                     cupid      thriller    \n",
       "2                 young, wild and wonderful         adult    \n",
       "3                            the secret sin         drama    \n",
       "4                           the unrecovered         drama    \n",
       "...                                     ...            ...   \n",
       "54209                              \"bonino\"        comedy    \n",
       "54210                  dead girls don't cry        horror    \n",
       "54211    ronald goedemondt: ze bestaan echt   documentary    \n",
       "54212                     make your own bed        comedy    \n",
       "54213   nature's fury: storm of the century       history    \n",
       "\n",
       "                                             description  \n",
       "0       listening in to a conversation between his do...  \n",
       "1       a brother and sister with a past incestuous r...  \n",
       "2       as the bus empties the students for their fie...  \n",
       "3       to help their unemployed father make ends mee...  \n",
       "4       the film's title refers not only to the un-re...  \n",
       "...                                                  ...  \n",
       "54209   this short-lived nbc live sitcom centered on ...  \n",
       "54210   the next generation of exploitation. the sist...  \n",
       "54211   ze bestaan echt, is a stand-up comedy about g...  \n",
       "54212   walter and vivian live in the country and hav...  \n",
       "54213   on labor day weekend, 1935, the most intense ...  \n",
       "\n",
       "[54214 rows x 3 columns]"
      ]
     },
     "execution_count": 4,
     "metadata": {},
     "output_type": "execute_result"
    }
   ],
   "source": [
    "data_1 = {'name': column2,\n",
    "          'genre': column3,\n",
    "          'description': column4}\n",
    "df = pd.DataFrame(data_1)\n",
    "df['name'] = df['name'].apply(lambda x: x[:-8])\n",
    "df"
   ]
  },
  {
   "cell_type": "code",
   "execution_count": 5,
   "id": "4fd0ded4",
   "metadata": {
    "execution": {
     "iopub.execute_input": "2023-10-22T15:45:38.916912Z",
     "iopub.status.busy": "2023-10-22T15:45:38.916484Z",
     "iopub.status.idle": "2023-10-22T15:45:39.473976Z",
     "shell.execute_reply": "2023-10-22T15:45:39.473019Z"
    },
    "papermill": {
     "duration": 0.566789,
     "end_time": "2023-10-22T15:45:39.476238",
     "exception": false,
     "start_time": "2023-10-22T15:45:38.909449",
     "status": "completed"
    },
    "tags": []
   },
   "outputs": [
    {
     "data": {
      "image/png": "[encoded data removed]",
      "text/plain": [
       "<Figure size 640x480 with 1 Axes>"
      ]
     },
     "metadata": {},
     "output_type": "display_data"
    }
   ],
   "source": [
    "sns.barplot(x=df['genre'].value_counts().index, y=df['genre'].value_counts())\n",
    "plt.xlabel('Genre')\n",
    "plt.ylabel('Count')\n",
    "plt.xticks(rotation=90)\n",
    "plt.show()"
   ]
  },
  {
   "cell_type": "code",
   "execution_count": 6,
   "id": "ab89ba62",
   "metadata": {
    "execution": {
     "iopub.execute_input": "2023-10-22T15:45:39.491256Z",
     "iopub.status.busy": "2023-10-22T15:45:39.490276Z",
     "iopub.status.idle": "2023-10-22T15:45:39.791741Z",
     "shell.execute_reply": "2023-10-22T15:45:39.790602Z"
    },
    "papermill": {
     "duration": 0.311918,
     "end_time": "2023-10-22T15:45:39.794495",
     "exception": false,
     "start_time": "2023-10-22T15:45:39.482577",
     "status": "completed"
    },
    "tags": []
   },
   "outputs": [
    {
     "data": {
      "text/html": [
       "<div>\n",
       "<style scoped>\n",
       "    .dataframe tbody tr th:only-of-type {\n",
       "        vertical-align: middle;\n",
       "    }\n",
       "\n",
       "    .dataframe tbody tr th {\n",
       "        vertical-align: top;\n",
       "    }\n",
       "\n",
       "    .dataframe thead th {\n",
       "        text-align: right;\n",
       "    }\n",
       "</style>\n",
       "<table border=\"1\" class=\"dataframe\">\n",
       "  <thead>\n",
       "    <tr style=\"text-align: right;\">\n",
       "      <th></th>\n",
       "      <th>name</th>\n",
       "      <th>description</th>\n",
       "    </tr>\n",
       "  </thead>\n",
       "  <tbody>\n",
       "    <tr>\n",
       "      <th>0</th>\n",
       "      <td>edgar's lunch</td>\n",
       "      <td>l.r. brane loves his life - his car, his apar...</td>\n",
       "    </tr>\n",
       "    <tr>\n",
       "      <th>1</th>\n",
       "      <td>la guerra de papá</td>\n",
       "      <td>spain, march 1964: quico is a very naughty ch...</td>\n",
       "    </tr>\n",
       "    <tr>\n",
       "      <th>2</th>\n",
       "      <td>off the beaten track</td>\n",
       "      <td>one year in the life of albin and his family ...</td>\n",
       "    </tr>\n",
       "    <tr>\n",
       "      <th>3</th>\n",
       "      <td>meu amigo hindu</td>\n",
       "      <td>his father has died, he hasn't spoken with hi...</td>\n",
       "    </tr>\n",
       "    <tr>\n",
       "      <th>4</th>\n",
       "      <td>er nu zhai</td>\n",
       "      <td>before he was known internationally as a mart...</td>\n",
       "    </tr>\n",
       "    <tr>\n",
       "      <th>...</th>\n",
       "      <td>...</td>\n",
       "      <td>...</td>\n",
       "    </tr>\n",
       "    <tr>\n",
       "      <th>54195</th>\n",
       "      <td>\"tales of light &amp; dark\"</td>\n",
       "      <td>covering multiple genres, tales of light &amp; da...</td>\n",
       "    </tr>\n",
       "    <tr>\n",
       "      <th>54196</th>\n",
       "      <td>der letzte mohikaner</td>\n",
       "      <td>as alice and cora munro attempt to find their...</td>\n",
       "    </tr>\n",
       "    <tr>\n",
       "      <th>54197</th>\n",
       "      <td>oliver twink</td>\n",
       "      <td>a movie 169 years in the making. oliver twist...</td>\n",
       "    </tr>\n",
       "    <tr>\n",
       "      <th>54198</th>\n",
       "      <td>slipstream</td>\n",
       "      <td>popular, but mysterious rock d.j mike mallard...</td>\n",
       "    </tr>\n",
       "    <tr>\n",
       "      <th>54199</th>\n",
       "      <td>curitiba zero grau</td>\n",
       "      <td>curitiba is a city in movement, with rhythms ...</td>\n",
       "    </tr>\n",
       "  </tbody>\n",
       "</table>\n",
       "<p>54200 rows × 2 columns</p>\n",
       "</div>"
      ],
      "text/plain": [
       "                           name  \\\n",
       "0                 edgar's lunch   \n",
       "1             la guerra de papá   \n",
       "2          off the beaten track   \n",
       "3               meu amigo hindu   \n",
       "4                    er nu zhai   \n",
       "...                         ...   \n",
       "54195   \"tales of light & dark\"   \n",
       "54196      der letzte mohikaner   \n",
       "54197              oliver twink   \n",
       "54198                slipstream   \n",
       "54199        curitiba zero grau   \n",
       "\n",
       "                                             description  \n",
       "0       l.r. brane loves his life - his car, his apar...  \n",
       "1       spain, march 1964: quico is a very naughty ch...  \n",
       "2       one year in the life of albin and his family ...  \n",
       "3       his father has died, he hasn't spoken with hi...  \n",
       "4       before he was known internationally as a mart...  \n",
       "...                                                  ...  \n",
       "54195   covering multiple genres, tales of light & da...  \n",
       "54196   as alice and cora munro attempt to find their...  \n",
       "54197   a movie 169 years in the making. oliver twist...  \n",
       "54198   popular, but mysterious rock d.j mike mallard...  \n",
       "54199   curitiba is a city in movement, with rhythms ...  \n",
       "\n",
       "[54200 rows x 2 columns]"
      ]
     },
     "execution_count": 6,
     "metadata": {},
     "output_type": "execute_result"
    }
   ],
   "source": [
    "rows = test_text.split(\":::\")\n",
    "\n",
    "# Split the data into lines based on \"\\n\"\n",
    "lines = test_text.split(\"\\n\")\n",
    "\n",
    "# Initialize empty lists for the four columns\n",
    "column1 = []\n",
    "column2 = []\n",
    "column3 = []\n",
    "\n",
    "# Split each line into four columns based on the delimiter \":::\"\n",
    "for line in lines:\n",
    "    columns = line.split(\":::\")\n",
    "    if len(columns) == 3:\n",
    "        column1.append(columns[0])\n",
    "        column2.append(columns[1])\n",
    "        column3.append(columns[2])\n",
    "        \n",
    "data_2 = {'name': column2,\n",
    "          'description': column3}\n",
    "df1 = pd.DataFrame(data_2)\n",
    "df1['name'] = df1['name'].apply(lambda x: x[:-8])\n",
    "df1"
   ]
  },
  {
   "cell_type": "code",
   "execution_count": 7,
   "id": "052b52a4",
   "metadata": {
    "execution": {
     "iopub.execute_input": "2023-10-22T15:45:39.810105Z",
     "iopub.status.busy": "2023-10-22T15:45:39.809736Z",
     "iopub.status.idle": "2023-10-22T15:45:40.749283Z",
     "shell.execute_reply": "2023-10-22T15:45:40.748393Z"
    },
    "papermill": {
     "duration": 0.950432,
     "end_time": "2023-10-22T15:45:40.751844",
     "exception": false,
     "start_time": "2023-10-22T15:45:39.801412",
     "status": "completed"
    },
    "tags": []
   },
   "outputs": [],
   "source": [
    "non_numeric_cols_df = df.select_dtypes(exclude=[int, float]).columns\n",
    "\n",
    "label_encoders_df = {}\n",
    "for col in non_numeric_cols_df:\n",
    "    label_encoders_df[col] = LabelEncoder()\n",
    "    df[col] = label_encoders_df[col].fit_transform(df[col])\n",
    "    \n",
    "non_numeric_cols_df1 = df1.select_dtypes(exclude=[int, float]).columns\n",
    "\n",
    "label_encoders_df1 = {}\n",
    "for col in non_numeric_cols_df1:\n",
    "    label_encoders_df1[col] = LabelEncoder()\n",
    "    df1[col] = label_encoders_df1[col].fit_transform(df1[col])"
   ]
  },
  {
   "cell_type": "code",
   "execution_count": 8,
   "id": "0840a8b1",
   "metadata": {
    "execution": {
     "iopub.execute_input": "2023-10-22T15:45:40.767561Z",
     "iopub.status.busy": "2023-10-22T15:45:40.766668Z",
     "iopub.status.idle": "2023-10-22T15:45:40.777183Z",
     "shell.execute_reply": "2023-10-22T15:45:40.776107Z"
    },
    "papermill": {
     "duration": 0.021094,
     "end_time": "2023-10-22T15:45:40.779620",
     "exception": false,
     "start_time": "2023-10-22T15:45:40.758526",
     "status": "completed"
    },
    "tags": []
   },
   "outputs": [
    {
     "data": {
      "text/plain": [
       "((54214, 2), (54214,), (54200, 2))"
      ]
     },
     "execution_count": 8,
     "metadata": {},
     "output_type": "execute_result"
    }
   ],
   "source": [
    "X_train = df.drop(['genre'], axis=1)\n",
    "Y_train = df['genre']\n",
    "X_test = df1\n",
    "X_train.shape, Y_train.shape, X_test.shape"
   ]
  },
  {
   "cell_type": "code",
   "execution_count": 9,
   "id": "ef1a34cf",
   "metadata": {
    "execution": {
     "iopub.execute_input": "2023-10-22T15:45:40.794876Z",
     "iopub.status.busy": "2023-10-22T15:45:40.794474Z",
     "iopub.status.idle": "2023-10-22T15:46:09.074055Z",
     "shell.execute_reply": "2023-10-22T15:46:09.072747Z"
    },
    "papermill": {
     "duration": 28.290147,
     "end_time": "2023-10-22T15:46:09.076611",
     "exception": false,
     "start_time": "2023-10-22T15:45:40.786464",
     "status": "completed"
    },
    "tags": []
   },
   "outputs": [
    {
     "name": "stdout",
     "output_type": "stream",
     "text": [
      "Random Forest:  99.99\n"
     ]
    }
   ],
   "source": [
    "# Random Forest\n",
    "random_forest = RandomForestClassifier(n_estimators=100)\n",
    "random_forest.fit(X_train, Y_train)\n",
    "Y_pred = random_forest.predict(X_test)\n",
    "random_forest.score(X_train, Y_train)\n",
    "acc_random_forest = round(random_forest.score(X_train, Y_train) * 100, 2)\n",
    "print(\"Random Forest: \", acc_random_forest)"
   ]
  },
  {
   "cell_type": "code",
   "execution_count": 10,
   "id": "f3b1aa4c",
   "metadata": {
    "execution": {
     "iopub.execute_input": "2023-10-22T15:46:09.093478Z",
     "iopub.status.busy": "2023-10-22T15:46:09.092623Z",
     "iopub.status.idle": "2023-10-22T15:46:09.142770Z",
     "shell.execute_reply": "2023-10-22T15:46:09.141649Z"
    },
    "papermill": {
     "duration": 0.061431,
     "end_time": "2023-10-22T15:46:09.145421",
     "exception": false,
     "start_time": "2023-10-22T15:46:09.083990",
     "status": "completed"
    },
    "tags": []
   },
   "outputs": [],
   "source": [
    "for col in df1:\n",
    "    df1[col] = label_encoders_df1[col].inverse_transform(df1[col])\n",
    "\n",
    "for col in df:\n",
    "    df[col] = label_encoders_df[col].inverse_transform(df[col])"
   ]
  },
  {
   "cell_type": "code",
   "execution_count": 11,
   "id": "873e0804",
   "metadata": {
    "execution": {
     "iopub.execute_input": "2023-10-22T15:46:09.160920Z",
     "iopub.status.busy": "2023-10-22T15:46:09.160528Z",
     "iopub.status.idle": "2023-10-22T15:46:09.167749Z",
     "shell.execute_reply": "2023-10-22T15:46:09.166593Z"
    },
    "papermill": {
     "duration": 0.017888,
     "end_time": "2023-10-22T15:46:09.170290",
     "exception": false,
     "start_time": "2023-10-22T15:46:09.152402",
     "status": "completed"
    },
    "tags": []
   },
   "outputs": [],
   "source": [
    "Y_pred = label_encoders_df['genre'].inverse_transform(Y_pred)"
   ]
  },
  {
   "cell_type": "code",
   "execution_count": 12,
   "id": "c2a7a9c0",
   "metadata": {
    "execution": {
     "iopub.execute_input": "2023-10-22T15:46:09.186217Z",
     "iopub.status.busy": "2023-10-22T15:46:09.185814Z",
     "iopub.status.idle": "2023-10-22T15:46:09.206084Z",
     "shell.execute_reply": "2023-10-22T15:46:09.204934Z"
    },
    "papermill": {
     "duration": 0.03096,
     "end_time": "2023-10-22T15:46:09.208376",
     "exception": false,
     "start_time": "2023-10-22T15:46:09.177416",
     "status": "completed"
    },
    "tags": []
   },
   "outputs": [
    {
     "data": {
      "text/html": [
       "<div>\n",
       "<style scoped>\n",
       "    .dataframe tbody tr th:only-of-type {\n",
       "        vertical-align: middle;\n",
       "    }\n",
       "\n",
       "    .dataframe tbody tr th {\n",
       "        vertical-align: top;\n",
       "    }\n",
       "\n",
       "    .dataframe thead th {\n",
       "        text-align: right;\n",
       "    }\n",
       "</style>\n",
       "<table border=\"1\" class=\"dataframe\">\n",
       "  <thead>\n",
       "    <tr style=\"text-align: right;\">\n",
       "      <th></th>\n",
       "      <th>name</th>\n",
       "      <th>description</th>\n",
       "      <th>genre</th>\n",
       "    </tr>\n",
       "  </thead>\n",
       "  <tbody>\n",
       "    <tr>\n",
       "      <th>0</th>\n",
       "      <td>edgar's lunch</td>\n",
       "      <td>l.r. brane loves his life - his car, his apar...</td>\n",
       "      <td>comedy</td>\n",
       "    </tr>\n",
       "    <tr>\n",
       "      <th>1</th>\n",
       "      <td>la guerra de papá</td>\n",
       "      <td>spain, march 1964: quico is a very naughty ch...</td>\n",
       "      <td>thriller</td>\n",
       "    </tr>\n",
       "    <tr>\n",
       "      <th>2</th>\n",
       "      <td>off the beaten track</td>\n",
       "      <td>one year in the life of albin and his family ...</td>\n",
       "      <td>comedy</td>\n",
       "    </tr>\n",
       "    <tr>\n",
       "      <th>3</th>\n",
       "      <td>meu amigo hindu</td>\n",
       "      <td>his father has died, he hasn't spoken with hi...</td>\n",
       "      <td>documentary</td>\n",
       "    </tr>\n",
       "    <tr>\n",
       "      <th>4</th>\n",
       "      <td>er nu zhai</td>\n",
       "      <td>before he was known internationally as a mart...</td>\n",
       "      <td>drama</td>\n",
       "    </tr>\n",
       "    <tr>\n",
       "      <th>...</th>\n",
       "      <td>...</td>\n",
       "      <td>...</td>\n",
       "      <td>...</td>\n",
       "    </tr>\n",
       "    <tr>\n",
       "      <th>54195</th>\n",
       "      <td>\"tales of light &amp; dark\"</td>\n",
       "      <td>covering multiple genres, tales of light &amp; da...</td>\n",
       "      <td>comedy</td>\n",
       "    </tr>\n",
       "    <tr>\n",
       "      <th>54196</th>\n",
       "      <td>der letzte mohikaner</td>\n",
       "      <td>as alice and cora munro attempt to find their...</td>\n",
       "      <td>drama</td>\n",
       "    </tr>\n",
       "    <tr>\n",
       "      <th>54197</th>\n",
       "      <td>oliver twink</td>\n",
       "      <td>a movie 169 years in the making. oliver twist...</td>\n",
       "      <td>drama</td>\n",
       "    </tr>\n",
       "    <tr>\n",
       "      <th>54198</th>\n",
       "      <td>slipstream</td>\n",
       "      <td>popular, but mysterious rock d.j mike mallard...</td>\n",
       "      <td>drama</td>\n",
       "    </tr>\n",
       "    <tr>\n",
       "      <th>54199</th>\n",
       "      <td>curitiba zero grau</td>\n",
       "      <td>curitiba is a city in movement, with rhythms ...</td>\n",
       "      <td>short</td>\n",
       "    </tr>\n",
       "  </tbody>\n",
       "</table>\n",
       "<p>54200 rows × 3 columns</p>\n",
       "</div>"
      ],
      "text/plain": [
       "                           name  \\\n",
       "0                 edgar's lunch   \n",
       "1             la guerra de papá   \n",
       "2          off the beaten track   \n",
       "3               meu amigo hindu   \n",
       "4                    er nu zhai   \n",
       "...                         ...   \n",
       "54195   \"tales of light & dark\"   \n",
       "54196      der letzte mohikaner   \n",
       "54197              oliver twink   \n",
       "54198                slipstream   \n",
       "54199        curitiba zero grau   \n",
       "\n",
       "                                             description          genre  \n",
       "0       l.r. brane loves his life - his car, his apar...        comedy   \n",
       "1       spain, march 1964: quico is a very naughty ch...      thriller   \n",
       "2       one year in the life of albin and his family ...        comedy   \n",
       "3       his father has died, he hasn't spoken with hi...   documentary   \n",
       "4       before he was known internationally as a mart...         drama   \n",
       "...                                                  ...            ...  \n",
       "54195   covering multiple genres, tales of light & da...        comedy   \n",
       "54196   as alice and cora munro attempt to find their...         drama   \n",
       "54197   a movie 169 years in the making. oliver twist...         drama   \n",
       "54198   popular, but mysterious rock d.j mike mallard...         drama   \n",
       "54199   curitiba is a city in movement, with rhythms ...         short   \n",
       "\n",
       "[54200 rows x 3 columns]"
      ]
     },
     "execution_count": 12,
     "metadata": {},
     "output_type": "execute_result"
    }
   ],
   "source": [
    "data_1 = {'name': df1['name'],\n",
    "          'description': df1['description'],\n",
    "        'genre': Y_pred}\n",
    "df_pred_1 = pd.DataFrame(data_1)\n",
    "# df_pred_1.to_csv(\"Genres_Dm_Lebe.csv\", encoding='utf-8', index=False)\n",
    "df_pred_1"
   ]
  },
  {
   "cell_type": "code",
   "execution_count": null,
   "id": "4ad17daa",
   "metadata": {
    "papermill": {
     "duration": 0.006991,
     "end_time": "2023-10-22T15:46:09.222991",
     "exception": false,
     "start_time": "2023-10-22T15:46:09.216000",
     "status": "completed"
    },
    "tags": []
   },
   "outputs": [],
   "source": []
  }
 ],
 "metadata": {
  "kernelspec": {
   "display_name": "Python 3",
   "language": "python",
   "name": "python3"
  },
  "language_info": {
   "codemirror_mode": {
    "name": "ipython",
    "version": 3
   },
   "file_extension": ".py",
   "mimetype": "text/x-python",
   "name": "python",
   "nbconvert_exporter": "python",
   "pygments_lexer": "ipython3",
   "version": "3.10.12"
  },
  "papermill": {
   "default_parameters": {},
   "duration": 40.177012,
   "end_time": "2023-10-22T15:46:10.052352",
   "environment_variables": {},
   "exception": null,
   "input_path": "__notebook__.ipynb",
   "output_path": "__notebook__.ipynb",
   "parameters": {},
   "start_time": "2023-10-22T15:45:29.875340",
   "version": "2.4.0"
  }
 },
 "nbformat": 4,
 "nbformat_minor": 5
}
