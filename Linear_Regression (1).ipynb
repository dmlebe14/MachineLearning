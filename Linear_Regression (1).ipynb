{
 "cells": [
  {
   "cell_type": "code",
   "execution_count": 1,
   "id": "f67ed78f",
   "metadata": {},
   "outputs": [],
   "source": [
    "import pandas as pd\n",
    "import numpy as np\n",
    "import matplotlib.pyplot as plt\n",
    "import matplotlib.axes as ax\n",
    "from IPython.display import clear_output"
   ]
  },
  {
   "cell_type": "code",
   "execution_count": 2,
   "id": "a349ea0c",
   "metadata": {},
   "outputs": [
    {
     "data": {
      "text/html": [
       "<div>\n",
       "<style scoped>\n",
       "    .dataframe tbody tr th:only-of-type {\n",
       "        vertical-align: middle;\n",
       "    }\n",
       "\n",
       "    .dataframe tbody tr th {\n",
       "        vertical-align: top;\n",
       "    }\n",
       "\n",
       "    .dataframe thead th {\n",
       "        text-align: right;\n",
       "    }\n",
       "</style>\n",
       "<table border=\"1\" class=\"dataframe\">\n",
       "  <thead>\n",
       "    <tr style=\"text-align: right;\">\n",
       "      <th></th>\n",
       "      <th>x</th>\n",
       "      <th>y</th>\n",
       "    </tr>\n",
       "  </thead>\n",
       "  <tbody>\n",
       "    <tr>\n",
       "      <th>0</th>\n",
       "      <td>24.0</td>\n",
       "      <td>21.549452</td>\n",
       "    </tr>\n",
       "    <tr>\n",
       "      <th>1</th>\n",
       "      <td>50.0</td>\n",
       "      <td>47.464463</td>\n",
       "    </tr>\n",
       "    <tr>\n",
       "      <th>2</th>\n",
       "      <td>15.0</td>\n",
       "      <td>17.218656</td>\n",
       "    </tr>\n",
       "    <tr>\n",
       "      <th>3</th>\n",
       "      <td>38.0</td>\n",
       "      <td>36.586398</td>\n",
       "    </tr>\n",
       "    <tr>\n",
       "      <th>4</th>\n",
       "      <td>87.0</td>\n",
       "      <td>87.288984</td>\n",
       "    </tr>\n",
       "    <tr>\n",
       "      <th>...</th>\n",
       "      <td>...</td>\n",
       "      <td>...</td>\n",
       "    </tr>\n",
       "    <tr>\n",
       "      <th>695</th>\n",
       "      <td>58.0</td>\n",
       "      <td>58.595006</td>\n",
       "    </tr>\n",
       "    <tr>\n",
       "      <th>696</th>\n",
       "      <td>93.0</td>\n",
       "      <td>94.625094</td>\n",
       "    </tr>\n",
       "    <tr>\n",
       "      <th>697</th>\n",
       "      <td>82.0</td>\n",
       "      <td>88.603770</td>\n",
       "    </tr>\n",
       "    <tr>\n",
       "      <th>698</th>\n",
       "      <td>66.0</td>\n",
       "      <td>63.648685</td>\n",
       "    </tr>\n",
       "    <tr>\n",
       "      <th>699</th>\n",
       "      <td>97.0</td>\n",
       "      <td>94.975266</td>\n",
       "    </tr>\n",
       "  </tbody>\n",
       "</table>\n",
       "<p>699 rows × 2 columns</p>\n",
       "</div>"
      ],
      "text/plain": [
       "        x          y\n",
       "0    24.0  21.549452\n",
       "1    50.0  47.464463\n",
       "2    15.0  17.218656\n",
       "3    38.0  36.586398\n",
       "4    87.0  87.288984\n",
       "..    ...        ...\n",
       "695  58.0  58.595006\n",
       "696  93.0  94.625094\n",
       "697  82.0  88.603770\n",
       "698  66.0  63.648685\n",
       "699  97.0  94.975266\n",
       "\n",
       "[699 rows x 2 columns]"
      ]
     },
     "execution_count": 2,
     "metadata": {},
     "output_type": "execute_result"
    }
   ],
   "source": [
    "df = pd.read_csv(\"data_for_lr.csv\")\n",
    "df.head()\n",
    "\n",
    "# Drop null values\n",
    "df = df.dropna()\n",
    "\n",
    "# Train-Test Split\n",
    "N = len(df)\n",
    "x, y = np.array(df.x[0:500]).reshape(500, 1), np.array(df.y[0:500]).reshape(500, 1)\n",
    "x_test, y_test = np.array(df.x[500:N]).reshape(N - 500, 1), np.array(df.y[500:N]).reshape(N - 500, 1)\n",
    "\n",
    "df"
   ]
  },
  {
   "cell_type": "code",
   "execution_count": 3,
   "id": "eba0dbe4",
   "metadata": {},
   "outputs": [],
   "source": [
    "theta0 = 0\n",
    "theta1 = 0"
   ]
  },
  {
   "cell_type": "code",
   "execution_count": 4,
   "id": "09c7543d",
   "metadata": {},
   "outputs": [],
   "source": [
    "y_ = theta0 + np.multiply(theta1, x)\n",
    "error = np.sum(np.square(np.subtract(y_, y))) / len(y)\n",
    "alpha = 0.0001"
   ]
  },
  {
   "cell_type": "code",
   "execution_count": 5,
   "id": "1c1df9ea",
   "metadata": {},
   "outputs": [
    {
     "data": {
      "image/png": "[encoded data removed]",
      "text/plain": [
       "<Figure size 432x288 with 1 Axes>"
      ]
     },
     "metadata": {
      "needs_background": "light"
     },
     "output_type": "display_data"
    },
    {
     "name": "stdout",
     "output_type": "stream",
     "text": [
      "Theta0: = 0.014966772558277523\n",
      "Theta1: = 0.9968301970230784\n"
     ]
    }
   ],
   "source": [
    "i = 1\n",
    "while i <= 20:\n",
    "    diff = y_ - y\n",
    "    diff_theta0 = np.mean(diff)\n",
    "    diff_theta1 = np.mean(np.multiply(diff, x))\n",
    "    theta0 = theta0 - alpha * diff_theta0\n",
    "    theta1 = theta1 - alpha * diff_theta1\n",
    "    y_ = theta0 + np.multiply(theta1, x)\n",
    "    error = np.sum(np.square(np.subtract(y_, y))) / (len(y) * 2)\n",
    "    i += 1\n",
    "    #print(error)\n",
    "    line = theta0 + np.multiply(theta1, x)\n",
    "    clear_output(wait=True)\n",
    "    plt.plot(x, y, \"+\", label=\"Actual values\")\n",
    "    plt.plot(x, line, label=\"Linear Equation\")\n",
    "    plt.xlabel(\"Train-X\")\n",
    "    plt.ylabel(\"Train-Y\")\n",
    "    plt.legend()\n",
    "    plt.show()\n",
    "print(\"Theta0: = \" + str(theta0))\n",
    "print(\"Theta1: = \" + str(theta1))"
   ]
  },
  {
   "cell_type": "code",
   "execution_count": 6,
   "id": "d8774dc2",
   "metadata": {},
   "outputs": [
    {
     "data": {
      "image/png": "[encoded data removed]",
      "text/plain": [
       "<Figure size 432x288 with 1 Axes>"
      ]
     },
     "metadata": {
      "needs_background": "light"
     },
     "output_type": "display_data"
    }
   ],
   "source": [
    "line = theta0 + np.multiply(theta1, x_test)\n",
    "clear_output(wait=True)\n",
    "plt.plot(x_test, y_test, \"+\", label=\"Actual values\")\n",
    "plt.plot(x_test, line, label=\"Linear Equation\")\n",
    "plt.xlabel(\"Test-X\")\n",
    "plt.ylabel(\"Test-Y\")\n",
    "plt.legend()\n",
    "plt.show()"
   ]
  },
  {
   "cell_type": "code",
   "execution_count": 7,
   "id": "3290f648",
   "metadata": {},
   "outputs": [],
   "source": [
    "class LinearRegression:\n",
    "    def __init__(self):\n",
    "        self.theta0 = 0\n",
    "        self.theta1 = 0\n",
    "        self.losses = []\n",
    "    def read_into_df(self, file):\n",
    "        df = pd.read_csv(file)\n",
    "        df.head()\n",
    "        df = df.dropna()\n",
    "        return df\n",
    "    def train_test_split(self, df):\n",
    "        N = len(df)\n",
    "        x, y = df['x'].sample(frac=0.7, random_state=200), df['y'].sample(frac=0.7, random_state=200)\n",
    "        x_test, y_test = np.array(df.drop(x.index)), np.array(df.drop(y.index))\n",
    "        x = np.array(x).reshape(len(x), 1)\n",
    "        y = np.array(y).reshape(len(y), 1)\n",
    "        return x, y, x_test, y_test\n",
    "    def propagation(self, x):\n",
    "        y_ = self.theta0 + np.multiply(self.theta1, x)\n",
    "        return y_\n",
    "    def error(self, y_, y):\n",
    "        error = np.sum(np.square(np.subtract(y_, y))) / (len(y) * 2)\n",
    "        return error\n",
    "    def train(self, alpha, x, y, num_iter):\n",
    "        plt.close()\n",
    "        i = 1\n",
    "        while i <= num_iter:\n",
    "            y_ = self.propagation(x)\n",
    "            err = self.error(y_, y)\n",
    "            self.losses.append(err)\n",
    "            diff = y_ - y\n",
    "            diff_theta0 = np.mean(diff)\n",
    "            diff_theta1 = np.mean(np.multiply(diff, x))\n",
    "            self.theta0 = self.theta0 - alpha * diff_theta0\n",
    "            self.theta1 = self.theta1 - alpha * diff_theta1\n",
    "            line = self.theta0 + np.multiply(self.theta1, x)\n",
    "            clear_output(wait=True)\n",
    "            plt.plot(x, y, \"+\", label=\"Actual values\")\n",
    "            plt.plot(x, line, label=\"Linear Equation\")\n",
    "            plt.xlabel(\"Train-X\")\n",
    "            plt.ylabel(\"Train-Y\")\n",
    "            plt.legend()\n",
    "            plt.show()\n",
    "            i += 1\n",
    "        return self.theta0, self.theta1, self.losses\n",
    "    def test(self, theta_0, theta_1, x_test, y_test):\n",
    "        plt.close()\n",
    "        line = theta_0 + np.multiply(theta_1, x_test)\n",
    "        clear_output(wait=True)\n",
    "        plt.plot(x_test, y_test, \"+\", label=\"Actual values\")\n",
    "        plt.plot(x_test, line, label=\"Linear Equation\")\n",
    "        plt.xlabel(\"Test-X\")\n",
    "        plt.ylabel(\"Test-Y\")\n",
    "        plt.legend()\n",
    "        plt.show()"
   ]
  },
  {
   "cell_type": "code",
   "execution_count": 8,
   "id": "1ece9d06",
   "metadata": {},
   "outputs": [
    {
     "data": {
      "image/png": "[encoded data removed]",
      "text/plain": [
       "<Figure size 432x288 with 1 Axes>"
      ]
     },
     "metadata": {
      "needs_background": "light"
     },
     "output_type": "display_data"
    },
    {
     "name": "stdout",
     "output_type": "stream",
     "text": [
      "0.014966772558277523 0.9968301970230784\n"
     ]
    }
   ],
   "source": [
    "alpha = 0.00001 \n",
    "num_iter = 50\n",
    "file = \"linreg.csv\"\n",
    "model = LinearRegression()\n",
    "df = model.read_into_df(file)\n",
    "x, y, x_test, y_test = model.train_test_split(df)\n",
    "# print(len(x_test))\n",
    "theta_0, theta_1, losses = model.train(alpha, x, y, num_iter)\n",
    "print(theta0, theta1)"
   ]
  },
  {
   "cell_type": "code",
   "execution_count": 9,
   "id": "7e6d7018",
   "metadata": {},
   "outputs": [
    {
     "data": {
      "image/png": "[encoded data removed]",
      "text/plain": [
       "<Figure size 432x288 with 1 Axes>"
      ]
     },
     "metadata": {
      "needs_background": "light"
     },
     "output_type": "display_data"
    }
   ],
   "source": [
    "model.test(theta_0, theta_1, x_test, y_test)"
   ]
  },
  {
   "cell_type": "code",
   "execution_count": 10,
   "id": "a551cd58",
   "metadata": {},
   "outputs": [
    {
     "name": "stdout",
     "output_type": "stream",
     "text": [
      "Iteration 1. Loss =  6564.224163118329\n",
      "Iteration 2. Loss =  3398.3413464384284\n",
      "Iteration 3. Loss =  1782.3418907175296\n",
      "Iteration 4. Loss =  957.4679437535272\n",
      "Iteration 5. Loss =  536.4176562800199\n",
      "Iteration 6. Loss =  321.4959111923508\n",
      "Iteration 7. Loss =  211.7908243850013\n",
      "Iteration 8. Loss =  155.79273541281844\n",
      "Iteration 9. Loss =  127.20895196613742\n",
      "Iteration 10. Loss =  112.61858050933107\n",
      "Iteration 11. Loss =  105.17103376996428\n",
      "Iteration 12. Loss =  101.36948451722215\n",
      "Iteration 13. Loss =  99.42900538708584\n",
      "Iteration 14. Loss =  98.43849454794416\n",
      "Iteration 15. Loss =  97.93288739027925\n",
      "Iteration 16. Loss =  97.67479542081627\n",
      "Iteration 17. Loss =  97.54304559050804\n",
      "Iteration 18. Loss =  97.47578609005728\n",
      "Iteration 19. Loss =  97.44144516036863\n",
      "Iteration 20. Loss =  97.42390725068165\n",
      "Iteration 21. Loss =  97.41494630759414\n",
      "Iteration 22. Loss =  97.41036340824068\n",
      "Iteration 23. Loss =  97.4080152461819\n",
      "Iteration 24. Loss =  97.40680778786653\n",
      "Iteration 25. Loss =  97.4061825926586\n",
      "Iteration 26. Loss =  97.40585460902238\n",
      "Iteration 27. Loss =  97.4056783346917\n",
      "Iteration 28. Loss =  97.4055794992039\n",
      "Iteration 29. Loss =  97.40552019179805\n",
      "Iteration 30. Loss =  97.40548106123083\n",
      "Iteration 31. Loss =  97.40545222981562\n",
      "Iteration 32. Loss =  97.40542865556652\n",
      "Iteration 33. Loss =  97.40540776484256\n",
      "Iteration 34. Loss =  97.40538824394918\n",
      "Iteration 35. Loss =  97.40536942232158\n",
      "Iteration 36. Loss =  97.40535095767547\n",
      "Iteration 37. Loss =  97.40533267529445\n",
      "Iteration 38. Loss =  97.4053144859959\n",
      "Iteration 39. Loss =  97.40529634425747\n",
      "Iteration 40. Loss =  97.40527822684246\n",
      "Iteration 41. Loss =  97.40526012188995\n",
      "Iteration 42. Loss =  97.40524202334566\n",
      "Iteration 43. Loss =  97.40522392811917\n",
      "Iteration 44. Loss =  97.40520583463301\n",
      "Iteration 45. Loss =  97.40518774208202\n",
      "Iteration 46. Loss =  97.40516965005521\n",
      "Iteration 47. Loss =  97.40515155834264\n",
      "Iteration 48. Loss =  97.4051334668374\n",
      "Iteration 49. Loss =  97.4051153754847\n",
      "Iteration 50. Loss =  97.40509728425677\n"
     ]
    }
   ],
   "source": [
    "for i in range(0, len(losses)):\n",
    "    print(\"Iteration \" + str(i+1) + \". Loss = \", str(losses[i]))"
   ]
  },
  {
   "cell_type": "code",
   "execution_count": 11,
   "id": "3f751b3a",
   "metadata": {},
   "outputs": [
    {
     "data": {
      "text/plain": [
       "[<matplotlib.lines.Line2D at 0x1f19431cc40>]"
      ]
     },
     "execution_count": 11,
     "metadata": {},
     "output_type": "execute_result"
    },
    {
     "data": {
      "image/png": "[encoded data removed]",
      "text/plain": [
       "<Figure size 432x288 with 1 Axes>"
      ]
     },
     "metadata": {
      "needs_background": "light"
     },
     "output_type": "display_data"
    }
   ],
   "source": [
    "plt.plot(losses, label=\"Loss values\")"
   ]
  },
  {
   "cell_type": "code",
   "execution_count": null,
   "id": "d7670bec",
   "metadata": {},
   "outputs": [],
   "source": []
  }
 ],
 "metadata": {
  "kernelspec": {
   "display_name": "Python 3",
   "language": "python",
   "name": "python3"
  },
  "language_info": {
   "codemirror_mode": {
    "name": "ipython",
    "version": 3
   },
   "file_extension": ".py",
   "mimetype": "text/x-python",
   "name": "python",
   "nbconvert_exporter": "python",
   "pygments_lexer": "ipython3",
   "version": "3.8.8"
  }
 },
 "nbformat": 4,
 "nbformat_minor": 5
}
