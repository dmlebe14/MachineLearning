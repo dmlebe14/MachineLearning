{
 "cells": [
  {
   "cell_type": "code",
   "execution_count": 1,
   "id": "f3d918bf",
   "metadata": {
    "_cell_guid": "b1076dfc-b9ad-4769-8c92-a6c4dae69d19",
    "_uuid": "8f2839f25d086af736a60e9eeb907d3b93b6e0e5",
    "execution": {
     "iopub.execute_input": "2023-11-19T20:20:26.329369Z",
     "iopub.status.busy": "2023-11-19T20:20:26.328978Z",
     "iopub.status.idle": "2023-11-19T20:20:40.366326Z",
     "shell.execute_reply": "2023-11-19T20:20:40.365445Z"
    },
    "papermill": {
     "duration": 14.051156,
     "end_time": "2023-11-19T20:20:40.368889",
     "exception": false,
     "start_time": "2023-11-19T20:20:26.317733",
     "status": "completed"
    },
    "tags": []
   },
   "outputs": [
    {
     "name": "stdout",
     "output_type": "stream",
     "text": [
      "[nltk_data] Downloading package stopwords to /usr/share/nltk_data...\n",
      "[nltk_data]   Package stopwords is already up-to-date!\n",
      "[nltk_data] Downloading package punkt to /usr/share/nltk_data...\n",
      "[nltk_data]   Package punkt is already up-to-date!\n",
      "[nltk_data] Downloading package wordnet to /usr/share/nltk_data...\n",
      "[nltk_data]   Package wordnet is already up-to-date!\n",
      "[nltk_data] Downloading package omw-1.4 to /usr/share/nltk_data...\n",
      "/kaggle/input/emotion-classification-nlp/emotion-labels-train.csv\n",
      "/kaggle/input/emotion-classification-nlp/emotion-labels-val.csv\n",
      "/kaggle/input/emotion-classification-nlp/emotion-labels-test.csv\n"
     ]
    }
   ],
   "source": [
    "# This Python 3 environment comes with many helpful analytics libraries installed\n",
    "# It is defined by the kaggle/python Docker image: https://github.com/kaggle/docker-python\n",
    "# For example, here's several helpful packages to load\n",
    "\n",
    "import numpy as np\n",
    "import pandas as pd\n",
    "import matplotlib.pyplot as plt\n",
    "import seaborn as sns\n",
    "import re\n",
    "import emoji\n",
    "from gensim.models import Word2Vec\n",
    "from sklearn.ensemble import RandomForestClassifier\n",
    "from sklearn.naive_bayes import GaussianNB\n",
    "from sklearn.preprocessing import LabelEncoder, OneHotEncoder\n",
    "from sklearn.model_selection import train_test_split\n",
    "from sklearn.preprocessing import MinMaxScaler\n",
    "from sklearn.feature_extraction.text import TfidfVectorizer\n",
    "from sklearn.metrics import accuracy_score\n",
    "\n",
    "from nltk.corpus import stopwords\n",
    "from nltk.stem import WordNetLemmatizer\n",
    "from nltk.tokenize import word_tokenize\n",
    "\n",
    "import nltk\n",
    "nltk.download('stopwords')\n",
    "nltk.download('punkt')\n",
    "nltk.download('wordnet')\n",
    "nltk.download('omw-1.4')\n",
    "\n",
    "# Input data files are available in the read-only \"../input/\" directory\n",
    "# For example, running this (by clicking run or pressing Shift+Enter) will list all files under the input directory\n",
    "\n",
    "import os\n",
    "for dirname, _, filenames in os.walk('/kaggle/input'):\n",
    "    for filename in filenames:\n",
    "        print(os.path.join(dirname, filename))\n",
    "\n",
    "# You can write up to 20GB to the current directory (/kaggle/working/) that gets preserved as output when you create a version using \"Save & Run All\" \n",
    "# You can also write temporary files to /kaggle/temp/, but they won't be saved outside of the current session"
   ]
  },
  {
   "cell_type": "markdown",
   "id": "1eca75aa",
   "metadata": {
    "papermill": {
     "duration": 0.007433,
     "end_time": "2023-11-19T20:20:40.384093",
     "exception": false,
     "start_time": "2023-11-19T20:20:40.376660",
     "status": "completed"
    },
    "tags": []
   },
   "source": [
    "**If you find this notebook useful, please consider up-voting. I would really appreciate it. Have a nice day!**"
   ]
  },
  {
   "cell_type": "code",
   "execution_count": 2,
   "id": "0799c7a0",
   "metadata": {
    "execution": {
     "iopub.execute_input": "2023-11-19T20:20:40.401908Z",
     "iopub.status.busy": "2023-11-19T20:20:40.400695Z",
     "iopub.status.idle": "2023-11-19T20:20:40.469000Z",
     "shell.execute_reply": "2023-11-19T20:20:40.467814Z"
    },
    "papermill": {
     "duration": 0.079911,
     "end_time": "2023-11-19T20:20:40.471708",
     "exception": false,
     "start_time": "2023-11-19T20:20:40.391797",
     "status": "completed"
    },
    "tags": []
   },
   "outputs": [],
   "source": [
    "# Reading data sets\n",
    "df1 = pd.read_csv(\"/kaggle/input/emotion-classification-nlp/emotion-labels-train.csv\")\n",
    "df2 = pd.read_csv(\"/kaggle/input/emotion-classification-nlp/emotion-labels-test.csv\")\n",
    "df3 = pd.read_csv(\"/kaggle/input/emotion-classification-nlp/emotion-labels-val.csv\")"
   ]
  },
  {
   "cell_type": "code",
   "execution_count": 3,
   "id": "1919903c",
   "metadata": {
    "execution": {
     "iopub.execute_input": "2023-11-19T20:20:40.489270Z",
     "iopub.status.busy": "2023-11-19T20:20:40.488882Z",
     "iopub.status.idle": "2023-11-19T20:20:40.523198Z",
     "shell.execute_reply": "2023-11-19T20:20:40.522287Z"
    },
    "papermill": {
     "duration": 0.046104,
     "end_time": "2023-11-19T20:20:40.525612",
     "exception": false,
     "start_time": "2023-11-19T20:20:40.479508",
     "status": "completed"
    },
    "tags": []
   },
   "outputs": [
    {
     "name": "stdout",
     "output_type": "stream",
     "text": [
      "<class 'pandas.core.frame.DataFrame'>\n",
      "RangeIndex: 3613 entries, 0 to 3612\n",
      "Data columns (total 2 columns):\n",
      " #   Column  Non-Null Count  Dtype \n",
      "---  ------  --------------  ----- \n",
      " 0   text    3613 non-null   object\n",
      " 1   label   3613 non-null   object\n",
      "dtypes: object(2)\n",
      "memory usage: 56.6+ KB\n"
     ]
    }
   ],
   "source": [
    "# Info about all three data sets\n",
    "df1.info()"
   ]
  },
  {
   "cell_type": "code",
   "execution_count": 4,
   "id": "e72fc4af",
   "metadata": {
    "execution": {
     "iopub.execute_input": "2023-11-19T20:20:40.542841Z",
     "iopub.status.busy": "2023-11-19T20:20:40.542413Z",
     "iopub.status.idle": "2023-11-19T20:20:40.554555Z",
     "shell.execute_reply": "2023-11-19T20:20:40.553372Z"
    },
    "papermill": {
     "duration": 0.0237,
     "end_time": "2023-11-19T20:20:40.556992",
     "exception": false,
     "start_time": "2023-11-19T20:20:40.533292",
     "status": "completed"
    },
    "tags": []
   },
   "outputs": [
    {
     "name": "stdout",
     "output_type": "stream",
     "text": [
      "<class 'pandas.core.frame.DataFrame'>\n",
      "RangeIndex: 3142 entries, 0 to 3141\n",
      "Data columns (total 2 columns):\n",
      " #   Column  Non-Null Count  Dtype \n",
      "---  ------  --------------  ----- \n",
      " 0   text    3142 non-null   object\n",
      " 1   label   3142 non-null   object\n",
      "dtypes: object(2)\n",
      "memory usage: 49.2+ KB\n"
     ]
    }
   ],
   "source": [
    "# Info about all three data sets\n",
    "df2.info()"
   ]
  },
  {
   "cell_type": "code",
   "execution_count": 5,
   "id": "1c1d59aa",
   "metadata": {
    "execution": {
     "iopub.execute_input": "2023-11-19T20:20:40.574906Z",
     "iopub.status.busy": "2023-11-19T20:20:40.574121Z",
     "iopub.status.idle": "2023-11-19T20:20:40.585290Z",
     "shell.execute_reply": "2023-11-19T20:20:40.584187Z"
    },
    "papermill": {
     "duration": 0.022839,
     "end_time": "2023-11-19T20:20:40.587714",
     "exception": false,
     "start_time": "2023-11-19T20:20:40.564875",
     "status": "completed"
    },
    "tags": []
   },
   "outputs": [
    {
     "name": "stdout",
     "output_type": "stream",
     "text": [
      "<class 'pandas.core.frame.DataFrame'>\n",
      "RangeIndex: 347 entries, 0 to 346\n",
      "Data columns (total 2 columns):\n",
      " #   Column  Non-Null Count  Dtype \n",
      "---  ------  --------------  ----- \n",
      " 0   text    347 non-null    object\n",
      " 1   label   347 non-null    object\n",
      "dtypes: object(2)\n",
      "memory usage: 5.5+ KB\n"
     ]
    }
   ],
   "source": [
    "# Info about all three data sets\n",
    "df3.info()"
   ]
  },
  {
   "cell_type": "code",
   "execution_count": 6,
   "id": "bc14eb27",
   "metadata": {
    "execution": {
     "iopub.execute_input": "2023-11-19T20:20:40.605868Z",
     "iopub.status.busy": "2023-11-19T20:20:40.605216Z",
     "iopub.status.idle": "2023-11-19T20:20:40.616496Z",
     "shell.execute_reply": "2023-11-19T20:20:40.615357Z"
    },
    "papermill": {
     "duration": 0.023674,
     "end_time": "2023-11-19T20:20:40.619243",
     "exception": false,
     "start_time": "2023-11-19T20:20:40.595569",
     "status": "completed"
    },
    "tags": []
   },
   "outputs": [
    {
     "name": "stdout",
     "output_type": "stream",
     "text": [
      "Number of NULL values in the training set: \n",
      "text     0\n",
      "label    0\n",
      "dtype: int64\n",
      "Number of NULL values in the test set: \n",
      "text     0\n",
      "label    0\n",
      "dtype: int64\n",
      "Number of NULL values in the validation set: \n",
      "text     0\n",
      "label    0\n",
      "dtype: int64\n"
     ]
    }
   ],
   "source": [
    "# Checking whether there are NULL values\n",
    "\n",
    "print(\"Number of NULL values in the training set: \")\n",
    "print(df1.isnull().sum())\n",
    "print(\"Number of NULL values in the test set: \")\n",
    "print(df2.isnull().sum())\n",
    "print(\"Number of NULL values in the validation set: \")\n",
    "print(df3.isnull().sum())"
   ]
  },
  {
   "cell_type": "code",
   "execution_count": 7,
   "id": "db25bcbe",
   "metadata": {
    "execution": {
     "iopub.execute_input": "2023-11-19T20:20:40.637347Z",
     "iopub.status.busy": "2023-11-19T20:20:40.636982Z",
     "iopub.status.idle": "2023-11-19T20:20:40.654400Z",
     "shell.execute_reply": "2023-11-19T20:20:40.653561Z"
    },
    "papermill": {
     "duration": 0.029447,
     "end_time": "2023-11-19T20:20:40.656892",
     "exception": false,
     "start_time": "2023-11-19T20:20:40.627445",
     "status": "completed"
    },
    "tags": []
   },
   "outputs": [],
   "source": [
    "# Deleting possible duplicates\n",
    "\n",
    "df1.drop(df1[df1.duplicated()].index, axis=0, inplace=True)\n",
    "df2.drop(df2[df2.duplicated()].index, axis=0, inplace=True)\n",
    "df3.drop(df3[df3.duplicated()].index, axis=0, inplace=True)"
   ]
  },
  {
   "cell_type": "code",
   "execution_count": 8,
   "id": "247d43cb",
   "metadata": {
    "execution": {
     "iopub.execute_input": "2023-11-19T20:20:40.675393Z",
     "iopub.status.busy": "2023-11-19T20:20:40.674565Z",
     "iopub.status.idle": "2023-11-19T20:20:40.944999Z",
     "shell.execute_reply": "2023-11-19T20:20:40.943802Z"
    },
    "papermill": {
     "duration": 0.282193,
     "end_time": "2023-11-19T20:20:40.947548",
     "exception": false,
     "start_time": "2023-11-19T20:20:40.665355",
     "status": "completed"
    },
    "tags": []
   },
   "outputs": [
    {
     "data": {
      "image/png": "[encoded data removed]",
      "text/plain": [
       "<Figure size 640x480 with 1 Axes>"
      ]
     },
     "metadata": {},
     "output_type": "display_data"
    }
   ],
   "source": [
    "# Concatenating DFs for a better visualisation\n",
    "combined_df = pd.concat([df1, df2, df3])\n",
    "label_counts = combined_df['label'].value_counts()\n",
    "\n",
    "# Countplot\n",
    "sns.countplot(x='label', data=combined_df, order=combined_df['label'].value_counts().index)\n",
    "plt.xlabel('Emotions')\n",
    "plt.ylabel('Number of Texts')\n",
    "plt.show()"
   ]
  },
  {
   "cell_type": "code",
   "execution_count": 9,
   "id": "9ce064be",
   "metadata": {
    "execution": {
     "iopub.execute_input": "2023-11-19T20:20:40.966636Z",
     "iopub.status.busy": "2023-11-19T20:20:40.966166Z",
     "iopub.status.idle": "2023-11-19T20:20:41.191928Z",
     "shell.execute_reply": "2023-11-19T20:20:41.190317Z"
    },
    "papermill": {
     "duration": 0.240012,
     "end_time": "2023-11-19T20:20:41.196296",
     "exception": false,
     "start_time": "2023-11-19T20:20:40.956284",
     "status": "completed"
    },
    "tags": []
   },
   "outputs": [
    {
     "data": {
      "image/png": "[encoded data removed]",
      "text/plain": [
       "<Figure size 800x800 with 1 Axes>"
      ]
     },
     "metadata": {},
     "output_type": "display_data"
    }
   ],
   "source": [
    "# A piechart for understanding the proportion\n",
    "plt.figure(figsize=(8, 8))\n",
    "plt.pie(combined_df['label'].value_counts().values, labels=combined_df['label'].value_counts().index, autopct='%1.1f%%', startangle=140, \n",
    "        colors=sns.color_palette('viridis', len(combined_df['label'].value_counts().index)))\n",
    "plt.title('Distribution of Labels')\n",
    "plt.show()"
   ]
  },
  {
   "cell_type": "code",
   "execution_count": 10,
   "id": "836e995e",
   "metadata": {
    "execution": {
     "iopub.execute_input": "2023-11-19T20:20:41.217459Z",
     "iopub.status.busy": "2023-11-19T20:20:41.216835Z",
     "iopub.status.idle": "2023-11-19T20:20:41.234743Z",
     "shell.execute_reply": "2023-11-19T20:20:41.232385Z"
    },
    "papermill": {
     "duration": 0.031846,
     "end_time": "2023-11-19T20:20:41.237900",
     "exception": false,
     "start_time": "2023-11-19T20:20:41.206054",
     "status": "completed"
    },
    "tags": []
   },
   "outputs": [],
   "source": [
    "# Making text lowercase\n",
    "df1['text']= df1['text'].apply(lambda x: x.lower())\n",
    "df2['text']= df2['text'].apply(lambda x: x.lower())\n",
    "df3['text']= df3['text'].apply(lambda x: x.lower())"
   ]
  },
  {
   "cell_type": "code",
   "execution_count": 11,
   "id": "d9029da9",
   "metadata": {
    "execution": {
     "iopub.execute_input": "2023-11-19T20:20:41.258041Z",
     "iopub.status.busy": "2023-11-19T20:20:41.257620Z",
     "iopub.status.idle": "2023-11-19T20:20:41.267016Z",
     "shell.execute_reply": "2023-11-19T20:20:41.265825Z"
    },
    "papermill": {
     "duration": 0.022155,
     "end_time": "2023-11-19T20:20:41.269438",
     "exception": false,
     "start_time": "2023-11-19T20:20:41.247283",
     "status": "completed"
    },
    "tags": []
   },
   "outputs": [],
   "source": [
    "# Defining a function removing stopwords\n",
    "def remove_stopwords(text):\n",
    "    stop_words = set(stopwords.words('english'))\n",
    "    words = word_tokenize(text)\n",
    "    filtered_words = [word for word in words if word.lower() not in stop_words]\n",
    "    return ' '.join(filtered_words)\n",
    "\n",
    "# Defining a lemmatisation function\n",
    "def apply_lemmatization(text):\n",
    "    lemmatizer = WordNetLemmatizer()\n",
    "    words = word_tokenize(text)\n",
    "    lemmatized_words = [lemmatizer.lemmatize(word) for word in words]\n",
    "    return ' '.join(lemmatized_words)\n",
    "\n",
    "# Defining a tokenisation function\n",
    "def tokenize_text(text):\n",
    "    tokens = word_tokenize(text)\n",
    "    return tokens\n",
    "\n",
    "# Defining a function for token lemmatisation\n",
    "def lemmatize_tokens(tokens):\n",
    "    lemmatizer = WordNetLemmatizer()\n",
    "    lemmatized_tokens = [lemmatizer.lemmatize(token) for token in tokens]\n",
    "    return lemmatized_tokens"
   ]
  },
  {
   "cell_type": "code",
   "execution_count": 12,
   "id": "7937dc92",
   "metadata": {
    "execution": {
     "iopub.execute_input": "2023-11-19T20:20:41.289238Z",
     "iopub.status.busy": "2023-11-19T20:20:41.288853Z",
     "iopub.status.idle": "2023-11-19T20:20:41.297247Z",
     "shell.execute_reply": "2023-11-19T20:20:41.296124Z"
    },
    "papermill": {
     "duration": 0.021044,
     "end_time": "2023-11-19T20:20:41.299546",
     "exception": false,
     "start_time": "2023-11-19T20:20:41.278502",
     "status": "completed"
    },
    "tags": []
   },
   "outputs": [],
   "source": [
    "def parse_emojis(text):\n",
    "    # Extract all emojis from the text\n",
    "    emojis = [c for c in text if c in emoji.distinct_emoji_list(c)]\n",
    "\n",
    "    # Convert emojis to their names\n",
    "    emoji_names = [emoji.demojize(e) for e in emojis]\n",
    "\n",
    "    # Join the emoji names into a single string\n",
    "    parsed_emojis = ' '.join(emoji_names)\n",
    "\n",
    "    return parsed_emojis\n",
    "\n",
    "def remove_special_characters(text):\n",
    "    # Removing mentions (including the username or handle) and words coming after them\n",
    "    text = re.sub(r'@\\w+', '', text)\n",
    "    \n",
    "    # Removing hashtags and replacing with ','\n",
    "    text = re.sub(r'#', ',', text)\n",
    "    \n",
    "    # Parsing emojis\n",
    "    text = str(parse_emojis(text))\n",
    "    \n",
    "    # Removing numbers\n",
    "    text = re.sub(r'\\d+', '', text)\n",
    "\n",
    "    # Removing HTML tags\n",
    "    text = re.sub(r'<[^>]*>', '', text)\n",
    "    \n",
    "    # Removing URLs\n",
    "    text = re.sub(r'http[s]?://(?:[a-zA-Z]|[0-9]|[$-_@.&+]|[!*\\\\(\\\\),]|(?:%[0-9a-fA-F][0-9a-fA-F]))+', '', text)\n",
    "    \n",
    "    return text"
   ]
  },
  {
   "cell_type": "code",
   "execution_count": 13,
   "id": "68dc6b92",
   "metadata": {
    "execution": {
     "iopub.execute_input": "2023-11-19T20:20:41.319868Z",
     "iopub.status.busy": "2023-11-19T20:20:41.319451Z",
     "iopub.status.idle": "2023-11-19T20:20:44.363850Z",
     "shell.execute_reply": "2023-11-19T20:20:44.362437Z"
    },
    "papermill": {
     "duration": 3.058059,
     "end_time": "2023-11-19T20:20:44.366820",
     "exception": false,
     "start_time": "2023-11-19T20:20:41.308761",
     "status": "completed"
    },
    "tags": []
   },
   "outputs": [],
   "source": [
    "df1['text'] = df1['text'].apply(remove_special_characters)\n",
    "df2['text'] = df2['text'].apply(remove_special_characters)\n",
    "df3['text'] = df3['text'].apply(remove_special_characters)"
   ]
  },
  {
   "cell_type": "code",
   "execution_count": 14,
   "id": "505d4b11",
   "metadata": {
    "execution": {
     "iopub.execute_input": "2023-11-19T20:20:44.387234Z",
     "iopub.status.busy": "2023-11-19T20:20:44.386862Z",
     "iopub.status.idle": "2023-11-19T20:20:45.928516Z",
     "shell.execute_reply": "2023-11-19T20:20:45.927172Z"
    },
    "papermill": {
     "duration": 1.555331,
     "end_time": "2023-11-19T20:20:45.931516",
     "exception": false,
     "start_time": "2023-11-19T20:20:44.376185",
     "status": "completed"
    },
    "tags": []
   },
   "outputs": [],
   "source": [
    "df1['text'] = df1['text'].apply(remove_stopwords)\n",
    "df2['text'] = df2['text'].apply(remove_stopwords)\n",
    "df3['text'] = df3['text'].apply(remove_stopwords)"
   ]
  },
  {
   "cell_type": "code",
   "execution_count": 15,
   "id": "c443081e",
   "metadata": {
    "execution": {
     "iopub.execute_input": "2023-11-19T20:20:45.952530Z",
     "iopub.status.busy": "2023-11-19T20:20:45.952101Z",
     "iopub.status.idle": "2023-11-19T20:20:45.968858Z",
     "shell.execute_reply": "2023-11-19T20:20:45.967738Z"
    },
    "papermill": {
     "duration": 0.030519,
     "end_time": "2023-11-19T20:20:45.971468",
     "exception": false,
     "start_time": "2023-11-19T20:20:45.940949",
     "status": "completed"
    },
    "tags": []
   },
   "outputs": [],
   "source": [
    "# Defining a function to apply label encoding to non-numeric columns in a DataFrame\n",
    "def label_encode_dataframe(df):\n",
    "    # Identify non-numeric columns\n",
    "    non_numeric_cols = df.select_dtypes(exclude=[int, float]).columns\n",
    "\n",
    "    # Apply label encoding to non-numeric columns\n",
    "    # Iterate over the non-numeric columns\n",
    "    for col in non_numeric_cols:\n",
    "        label_encoder = LabelEncoder()  # Create a label encoder for each column\n",
    "        df[col] = label_encoder.fit_transform(df[col])  # Apply label encoding to the column\n",
    "\n",
    "    return df\n",
    "\n",
    "df_num1 = label_encode_dataframe(df1)\n",
    "df_num2 = label_encode_dataframe(df2)\n",
    "df_num3 = label_encode_dataframe(df3)"
   ]
  },
  {
   "cell_type": "code",
   "execution_count": 16,
   "id": "940dc0c3",
   "metadata": {
    "execution": {
     "iopub.execute_input": "2023-11-19T20:20:45.991863Z",
     "iopub.status.busy": "2023-11-19T20:20:45.991482Z",
     "iopub.status.idle": "2023-11-19T20:20:45.998981Z",
     "shell.execute_reply": "2023-11-19T20:20:45.998147Z"
    },
    "papermill": {
     "duration": 0.020079,
     "end_time": "2023-11-19T20:20:46.001142",
     "exception": false,
     "start_time": "2023-11-19T20:20:45.981063",
     "status": "completed"
    },
    "tags": []
   },
   "outputs": [],
   "source": [
    "X_train = df_num1[\"text\"]\n",
    "Y_train = df_num1['label']\n",
    "\n",
    "X_test = df_num2[\"text\"]\n",
    "Y_test = df_num2['label']\n",
    "\n",
    "X_val = df_num3[\"text\"]\n",
    "Y_val = df_num3['label']"
   ]
  },
  {
   "cell_type": "code",
   "execution_count": 17,
   "id": "6840247f",
   "metadata": {
    "execution": {
     "iopub.execute_input": "2023-11-19T20:20:46.021313Z",
     "iopub.status.busy": "2023-11-19T20:20:46.020632Z",
     "iopub.status.idle": "2023-11-19T20:20:46.031479Z",
     "shell.execute_reply": "2023-11-19T20:20:46.030403Z"
    },
    "papermill": {
     "duration": 0.023432,
     "end_time": "2023-11-19T20:20:46.033652",
     "exception": false,
     "start_time": "2023-11-19T20:20:46.010220",
     "status": "completed"
    },
    "tags": []
   },
   "outputs": [
    {
     "data": {
      "text/plain": [
       "((3613,), (3142,), (3613,), (3142,), (347,), (347,))"
      ]
     },
     "execution_count": 17,
     "metadata": {},
     "output_type": "execute_result"
    }
   ],
   "source": [
    "scaler = MinMaxScaler()\n",
    "\n",
    "# Reshape the selected column into a 2D array\n",
    "X_train_scaled = scaler.fit_transform(X_train.values.reshape(-1, 1))\n",
    "X_test_scaled = scaler.fit_transform(X_test.values.reshape(-1, 1))\n",
    "X_val_scaled = scaler.fit_transform(X_val.values.reshape(-1, 1))\n",
    "\n",
    "X_train.shape, X_test.shape, Y_train.shape, Y_test.shape, X_val.shape, Y_val.shape"
   ]
  },
  {
   "cell_type": "code",
   "execution_count": 18,
   "id": "dea03476",
   "metadata": {
    "execution": {
     "iopub.execute_input": "2023-11-19T20:20:46.053804Z",
     "iopub.status.busy": "2023-11-19T20:20:46.053381Z",
     "iopub.status.idle": "2023-11-19T20:20:46.409414Z",
     "shell.execute_reply": "2023-11-19T20:20:46.408288Z"
    },
    "papermill": {
     "duration": 0.368981,
     "end_time": "2023-11-19T20:20:46.411791",
     "exception": false,
     "start_time": "2023-11-19T20:20:46.042810",
     "status": "completed"
    },
    "tags": []
   },
   "outputs": [
    {
     "name": "stdout",
     "output_type": "stream",
     "text": [
      "Random Forest (Validation):  31.41\n",
      "Random Forest (Test):  31.38\n"
     ]
    }
   ],
   "source": [
    "# Random Forest model\n",
    "random_forest = RandomForestClassifier(n_estimators=100, random_state=42)\n",
    "\n",
    "# Train the model on the training set\n",
    "random_forest.fit(X_train_scaled, Y_train)\n",
    "\n",
    "# Predictions on the validation set\n",
    "Y_val_pred = random_forest.predict(X_val_scaled)\n",
    "\n",
    "# Evaluate the model on the validation set\n",
    "acc_random_forest_val = accuracy_score(Y_val, Y_val_pred)\n",
    "print(\"Random Forest (Validation): \", round(acc_random_forest_val * 100, 2))\n",
    "\n",
    "# If you're satisfied with the model's performance on the validation set, you can then evaluate it on the test set\n",
    "Y_test_pred = random_forest.predict(X_test_scaled)\n",
    "acc_random_forest_test = accuracy_score(Y_test, Y_test_pred)\n",
    "print(\"Random Forest (Test): \", round(acc_random_forest_test * 100, 2))"
   ]
  },
  {
   "cell_type": "code",
   "execution_count": 19,
   "id": "648d8e9b",
   "metadata": {
    "execution": {
     "iopub.execute_input": "2023-11-19T20:20:46.432255Z",
     "iopub.status.busy": "2023-11-19T20:20:46.431680Z",
     "iopub.status.idle": "2023-11-19T20:20:46.444102Z",
     "shell.execute_reply": "2023-11-19T20:20:46.443364Z"
    },
    "papermill": {
     "duration": 0.02523,
     "end_time": "2023-11-19T20:20:46.446260",
     "exception": false,
     "start_time": "2023-11-19T20:20:46.421030",
     "status": "completed"
    },
    "tags": []
   },
   "outputs": [
    {
     "name": "stdout",
     "output_type": "stream",
     "text": [
      "Gaussian Naive Bayes (Validation):  31.7\n",
      "Gaussian Naive Bayes (Test):  31.67\n"
     ]
    }
   ],
   "source": [
    "# Gaussian Naive Bayes model\n",
    "naive_bayes = GaussianNB()\n",
    "\n",
    "# Train the model on the training set\n",
    "naive_bayes.fit(X_train_scaled, Y_train)\n",
    "\n",
    "# Predictions on the validation set\n",
    "Y_val_pred = naive_bayes.predict(X_val_scaled)\n",
    "\n",
    "# Evaluate the model on the validation set\n",
    "acc_naive_bayes_val = accuracy_score(Y_val, Y_val_pred)\n",
    "print(\"Gaussian Naive Bayes (Validation): \", round(acc_naive_bayes_val * 100, 2))\n",
    "\n",
    "# If you're satisfied with the model's performance on the validation set, you can then evaluate it on the test set\n",
    "Y_test_pred = naive_bayes.predict(X_test_scaled)\n",
    "\n",
    "# Evaluate the model on the test set\n",
    "acc_naive_bayes_test = accuracy_score(Y_test, Y_test_pred)\n",
    "print(\"Gaussian Naive Bayes (Test): \", round(acc_naive_bayes_test * 100, 2))"
   ]
  },
  {
   "cell_type": "markdown",
   "id": "3b3ce1a1",
   "metadata": {
    "papermill": {
     "duration": 0.009036,
     "end_time": "2023-11-19T20:20:46.464510",
     "exception": false,
     "start_time": "2023-11-19T20:20:46.455474",
     "status": "completed"
    },
    "tags": []
   },
   "source": [
    "**The accuracy using Random Forest and Gaussian Naive Bayes is too low. Further attempts to increase the accuracy will be made shortly.**"
   ]
  }
 ],
 "metadata": {
  "kaggle": {
   "accelerator": "none",
   "dataSources": [
    {
     "datasetId": 1334611,
     "sourceId": 2222182,
     "sourceType": "datasetVersion"
    }
   ],
   "dockerImageVersionId": 30587,
   "isGpuEnabled": false,
   "isInternetEnabled": true,
   "language": "python",
   "sourceType": "notebook"
  },
  "kernelspec": {
   "display_name": "Python 3",
   "language": "python",
   "name": "python3"
  },
  "language_info": {
   "codemirror_mode": {
    "name": "ipython",
    "version": 3
   },
   "file_extension": ".py",
   "mimetype": "text/x-python",
   "name": "python",
   "nbconvert_exporter": "python",
   "pygments_lexer": "ipython3",
   "version": "3.10.12"
  },
  "papermill": {
   "default_parameters": {},
   "duration": 24.6766,
   "end_time": "2023-11-19T20:20:47.496763",
   "environment_variables": {},
   "exception": null,
   "input_path": "__notebook__.ipynb",
   "output_path": "__notebook__.ipynb",
   "parameters": {},
   "start_time": "2023-11-19T20:20:22.820163",
   "version": "2.4.0"
  }
 },
 "nbformat": 4,
 "nbformat_minor": 5
}
