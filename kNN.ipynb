{
 "cells": [
  {
   "cell_type": "code",
   "execution_count": 1,
   "id": "e304135a",
   "metadata": {},
   "outputs": [],
   "source": [
    "import pandas as pd\n",
    "import numpy as np\n",
    "import random\n",
    "import matplotlib.pyplot as plt\n",
    "import matplotlib.axes as ax\n",
    "from IPython.display import clear_output"
   ]
  },
  {
   "cell_type": "code",
   "execution_count": 2,
   "id": "fa3400c5",
   "metadata": {},
   "outputs": [
    {
     "data": {
      "text/html": [
       "<div>\n",
       "<style scoped>\n",
       "    .dataframe tbody tr th:only-of-type {\n",
       "        vertical-align: middle;\n",
       "    }\n",
       "\n",
       "    .dataframe tbody tr th {\n",
       "        vertical-align: top;\n",
       "    }\n",
       "\n",
       "    .dataframe thead th {\n",
       "        text-align: right;\n",
       "    }\n",
       "</style>\n",
       "<table border=\"1\" class=\"dataframe\">\n",
       "  <thead>\n",
       "    <tr style=\"text-align: right;\">\n",
       "      <th></th>\n",
       "      <th>X</th>\n",
       "      <th>Y</th>\n",
       "      <th>Class</th>\n",
       "    </tr>\n",
       "  </thead>\n",
       "  <tbody>\n",
       "    <tr>\n",
       "      <th>0</th>\n",
       "      <td>0.031595</td>\n",
       "      <td>0.986988</td>\n",
       "      <td>0.0</td>\n",
       "    </tr>\n",
       "    <tr>\n",
       "      <th>1</th>\n",
       "      <td>2.115098</td>\n",
       "      <td>-0.046244</td>\n",
       "      <td>1.0</td>\n",
       "    </tr>\n",
       "    <tr>\n",
       "      <th>2</th>\n",
       "      <td>0.882490</td>\n",
       "      <td>-0.075756</td>\n",
       "      <td>0.0</td>\n",
       "    </tr>\n",
       "    <tr>\n",
       "      <th>3</th>\n",
       "      <td>-0.055144</td>\n",
       "      <td>-0.037332</td>\n",
       "      <td>1.0</td>\n",
       "    </tr>\n",
       "    <tr>\n",
       "      <th>4</th>\n",
       "      <td>0.829545</td>\n",
       "      <td>-0.539321</td>\n",
       "      <td>1.0</td>\n",
       "    </tr>\n",
       "    <tr>\n",
       "      <th>...</th>\n",
       "      <td>...</td>\n",
       "      <td>...</td>\n",
       "      <td>...</td>\n",
       "    </tr>\n",
       "    <tr>\n",
       "      <th>95</th>\n",
       "      <td>1.699453</td>\n",
       "      <td>0.587720</td>\n",
       "      <td>1.0</td>\n",
       "    </tr>\n",
       "    <tr>\n",
       "      <th>96</th>\n",
       "      <td>0.218623</td>\n",
       "      <td>-0.652521</td>\n",
       "      <td>1.0</td>\n",
       "    </tr>\n",
       "    <tr>\n",
       "      <th>97</th>\n",
       "      <td>0.952914</td>\n",
       "      <td>-0.419766</td>\n",
       "      <td>1.0</td>\n",
       "    </tr>\n",
       "    <tr>\n",
       "      <th>98</th>\n",
       "      <td>-1.318500</td>\n",
       "      <td>0.423112</td>\n",
       "      <td>0.0</td>\n",
       "    </tr>\n",
       "    <tr>\n",
       "      <th>99</th>\n",
       "      <td>-1.296818</td>\n",
       "      <td>0.184147</td>\n",
       "      <td>0.0</td>\n",
       "    </tr>\n",
       "  </tbody>\n",
       "</table>\n",
       "<p>100 rows × 3 columns</p>\n",
       "</div>"
      ],
      "text/plain": [
       "           X         Y  Class\n",
       "0   0.031595  0.986988    0.0\n",
       "1   2.115098 -0.046244    1.0\n",
       "2   0.882490 -0.075756    0.0\n",
       "3  -0.055144 -0.037332    1.0\n",
       "4   0.829545 -0.539321    1.0\n",
       "..       ...       ...    ...\n",
       "95  1.699453  0.587720    1.0\n",
       "96  0.218623 -0.652521    1.0\n",
       "97  0.952914 -0.419766    1.0\n",
       "98 -1.318500  0.423112    0.0\n",
       "99 -1.296818  0.184147    0.0\n",
       "\n",
       "[100 rows x 3 columns]"
      ]
     },
     "execution_count": 2,
     "metadata": {},
     "output_type": "execute_result"
    }
   ],
   "source": [
    "header = []\n",
    "header.append(\"X\")\n",
    "header.append('Y')\n",
    "header.append('Class')\n",
    "df = pd.read_csv(\"1.ushape.csv\", names=header)\n",
    "df"
   ]
  },
  {
   "cell_type": "code",
   "execution_count": 3,
   "id": "15c2966a",
   "metadata": {},
   "outputs": [
    {
     "data": {
      "text/plain": [
       "array([0., 1.])"
      ]
     },
     "execution_count": 3,
     "metadata": {},
     "output_type": "execute_result"
    }
   ],
   "source": [
    "uniqueClass = df[\"Class\"].unique() \n",
    "uniqueClass"
   ]
  },
  {
   "cell_type": "code",
   "execution_count": 4,
   "id": "702d479a",
   "metadata": {},
   "outputs": [
    {
     "data": {
      "image/png": "[encoded data removed]",
      "text/plain": [
       "<Figure size 432x288 with 1 Axes>"
      ]
     },
     "metadata": {
      "needs_background": "light"
     },
     "output_type": "display_data"
    }
   ],
   "source": [
    "for i in range(0, len(uniqueClass)):\n",
    "    df1 = df.loc[df[\"Class\"] == uniqueClass[i]]\n",
    "    plt.plot(df1[\"X\"].to_numpy(), df1[\"Y\"].to_numpy(), \"+\")"
   ]
  },
  {
   "cell_type": "code",
   "execution_count": 5,
   "id": "5828f9c4",
   "metadata": {},
   "outputs": [
    {
     "data": {
      "text/plain": [
       "(-0.871043685497334, -1.160349512988233)"
      ]
     },
     "execution_count": 5,
     "metadata": {},
     "output_type": "execute_result"
    }
   ],
   "source": [
    "x, y = round(random.uniform(-2,2), 15), round(random.uniform(-2,2), 15)\n",
    "x, y"
   ]
  },
  {
   "cell_type": "code",
   "execution_count": 6,
   "id": "e646629f",
   "metadata": {},
   "outputs": [
    {
     "data": {
      "text/plain": [
       "0.03159499363321345"
      ]
     },
     "execution_count": 6,
     "metadata": {},
     "output_type": "execute_result"
    }
   ],
   "source": [
    "df[\"X\"].loc[df[\"Class\"] == uniqueClass[0]].iloc[0]"
   ]
  },
  {
   "cell_type": "code",
   "execution_count": 7,
   "id": "b6c1bb4e",
   "metadata": {},
   "outputs": [
    {
     "data": {
      "text/plain": [
       "[[2.329337661234145,\n",
       "  2.061849260694981,\n",
       "  2.07824416842928,\n",
       "  3.1554071355405435,\n",
       "  2.1694093937921104,\n",
       "  2.3352156395197237,\n",
       "  2.6651703700507583,\n",
       "  2.3060917052237873,\n",
       "  2.040098039596415,\n",
       "  2.6597342586122252,\n",
       "  1.8381251738260977,\n",
       "  2.4658032889217343,\n",
       "  1.0526805524582776,\n",
       "  0.7872790944335788,\n",
       "  2.0858070446939583,\n",
       "  2.2722724541213624,\n",
       "  2.379114733448434,\n",
       "  2.638342165172062,\n",
       "  1.2069265424750784,\n",
       "  1.3121275761243087,\n",
       "  2.442741131042249,\n",
       "  3.119006725744548,\n",
       "  3.140226194013741,\n",
       "  1.954821332686682,\n",
       "  1.3311445724472277,\n",
       "  2.105913075583747,\n",
       "  2.262881022985199,\n",
       "  1.8734809920683215,\n",
       "  1.8749197448464383,\n",
       "  2.5596855335674573,\n",
       "  1.5541275499984633,\n",
       "  2.713043061932041,\n",
       "  2.437045189393543,\n",
       "  2.210273036707114,\n",
       "  2.2416951699608467,\n",
       "  2.372097501371359,\n",
       "  2.2994113173850037,\n",
       "  2.0654775426081993,\n",
       "  1.232891410435861,\n",
       "  2.5813195666820596,\n",
       "  2.5149613030862676,\n",
       "  2.236697600267625,\n",
       "  1.6657894225807133,\n",
       "  0.7063769551980118,\n",
       "  2.1572454457008203,\n",
       "  1.7924388624518117,\n",
       "  2.2723914534370095,\n",
       "  2.6945528632270164,\n",
       "  1.6454692132979183,\n",
       "  1.4103030100596703],\n",
       " [3.1872044766309973,\n",
       "  1.3881136229468387,\n",
       "  1.8104357968151032,\n",
       "  3.4964161602107855,\n",
       "  1.8681534866729848,\n",
       "  1.7666823342668845,\n",
       "  3.000885262824244,\n",
       "  1.8707650765962072,\n",
       "  2.9978704085698493,\n",
       "  2.4070081778896024,\n",
       "  1.647054467432474,\n",
       "  1.7252262746951375,\n",
       "  3.2574516475612274,\n",
       "  3.0927755258221272,\n",
       "  2.5801123616728336,\n",
       "  1.6848383805367935,\n",
       "  1.931216520663028,\n",
       "  2.9676250498732437,\n",
       "  1.5374022631824757,\n",
       "  1.9659948427026375,\n",
       "  1.7573767128055828,\n",
       "  1.4873228677496007,\n",
       "  1.9707467091198207,\n",
       "  1.6959584954483413,\n",
       "  2.5511243540301676,\n",
       "  1.0469769276930512,\n",
       "  1.6978791971119824,\n",
       "  1.8839942119822353,\n",
       "  1.5138866619225464,\n",
       "  1.2673740305622112,\n",
       "  1.6258457220797737,\n",
       "  2.119434693721506,\n",
       "  2.5138461392464504,\n",
       "  3.085719864034909,\n",
       "  3.165904497157953,\n",
       "  3.4258327018445516,\n",
       "  1.3176781950285434,\n",
       "  3.0717863020551386,\n",
       "  1.6695873189319053,\n",
       "  2.2600926844805462,\n",
       "  2.362056516430214,\n",
       "  1.5524724761732887,\n",
       "  1.52789234602658,\n",
       "  2.727857682126869,\n",
       "  1.7287808192308567,\n",
       "  2.643042290986284,\n",
       "  2.2750295961152527,\n",
       "  3.108568732223299,\n",
       "  1.2021911675470809,\n",
       "  1.9685749035240039]]"
      ]
     },
     "execution_count": 7,
     "metadata": {},
     "output_type": "execute_result"
    }
   ],
   "source": [
    "distance = []\n",
    "for i in range(0, len(uniqueClass)):\n",
    "    dist_list = []\n",
    "    for j in range(0, len(df[\"X\"].loc[df[\"Class\"] == uniqueClass[i]])):\n",
    "        dist = ((x - df[\"X\"].loc[df[\"Class\"] == uniqueClass[i]].iloc[j]) ** 2 + (y - df[\"Y\"].loc[df[\"Class\"] == uniqueClass[i]].iloc[j]) ** 2) ** 0.5\n",
    "        dist_list.append(dist)\n",
    "    distance.append(dist_list)\n",
    "distance"
   ]
  },
  {
   "cell_type": "code",
   "execution_count": 8,
   "id": "0118fe46",
   "metadata": {},
   "outputs": [
    {
     "name": "stdout",
     "output_type": "stream",
     "text": [
      "2 1 51 50\n"
     ]
    }
   ],
   "source": [
    "class_dist = []\n",
    "for j in range(0, len(distance)):\n",
    "    # for k in range(0, len(distance[j])):\n",
    "    min_ind = distance[j].index(min(distance[j]))\n",
    "    min_val = distance[j][distance[j].index(min(distance[j]))]\n",
    "    class_dist.append(min_val)\n",
    "class_dist\n",
    "\n",
    "k = 3\n",
    "i = 0\n",
    "class_score = [0]*len(class_dist)\n",
    "while i < k:\n",
    "    min_ind = class_dist.index(min(class_dist))\n",
    "    class_score[min_ind] += 1\n",
    "    distance[min_ind].pop(distance[min_ind].index(min(distance[min_ind])))\n",
    "    class_dist[min_ind] = distance[min_ind][distance[min_ind].index(min(distance[min_ind]))]\n",
    "    i += 1\n",
    "df.loc[len(df.index)] = [x, y, class_score.index(max(class_score))]\n",
    "print(class_score[0], class_score[1], len(df.loc[(df['Class'] == 0.0)]), len(df.loc[(df['Class'] == 1.0)]))"
   ]
  },
  {
   "cell_type": "code",
   "execution_count": 9,
   "id": "c6385ea3",
   "metadata": {},
   "outputs": [
    {
     "data": {
      "text/html": [
       "<div>\n",
       "<style scoped>\n",
       "    .dataframe tbody tr th:only-of-type {\n",
       "        vertical-align: middle;\n",
       "    }\n",
       "\n",
       "    .dataframe tbody tr th {\n",
       "        vertical-align: top;\n",
       "    }\n",
       "\n",
       "    .dataframe thead th {\n",
       "        text-align: right;\n",
       "    }\n",
       "</style>\n",
       "<table border=\"1\" class=\"dataframe\">\n",
       "  <thead>\n",
       "    <tr style=\"text-align: right;\">\n",
       "      <th></th>\n",
       "      <th>X</th>\n",
       "      <th>Y</th>\n",
       "      <th>Class</th>\n",
       "    </tr>\n",
       "  </thead>\n",
       "  <tbody>\n",
       "    <tr>\n",
       "      <th>0</th>\n",
       "      <td>0.031595</td>\n",
       "      <td>0.986988</td>\n",
       "      <td>0.0</td>\n",
       "    </tr>\n",
       "    <tr>\n",
       "      <th>1</th>\n",
       "      <td>2.115098</td>\n",
       "      <td>-0.046244</td>\n",
       "      <td>1.0</td>\n",
       "    </tr>\n",
       "    <tr>\n",
       "      <th>2</th>\n",
       "      <td>0.882490</td>\n",
       "      <td>-0.075756</td>\n",
       "      <td>0.0</td>\n",
       "    </tr>\n",
       "    <tr>\n",
       "      <th>3</th>\n",
       "      <td>-0.055144</td>\n",
       "      <td>-0.037332</td>\n",
       "      <td>1.0</td>\n",
       "    </tr>\n",
       "    <tr>\n",
       "      <th>4</th>\n",
       "      <td>0.829545</td>\n",
       "      <td>-0.539321</td>\n",
       "      <td>1.0</td>\n",
       "    </tr>\n",
       "    <tr>\n",
       "      <th>...</th>\n",
       "      <td>...</td>\n",
       "      <td>...</td>\n",
       "      <td>...</td>\n",
       "    </tr>\n",
       "    <tr>\n",
       "      <th>96</th>\n",
       "      <td>0.218623</td>\n",
       "      <td>-0.652521</td>\n",
       "      <td>1.0</td>\n",
       "    </tr>\n",
       "    <tr>\n",
       "      <th>97</th>\n",
       "      <td>0.952914</td>\n",
       "      <td>-0.419766</td>\n",
       "      <td>1.0</td>\n",
       "    </tr>\n",
       "    <tr>\n",
       "      <th>98</th>\n",
       "      <td>-1.318500</td>\n",
       "      <td>0.423112</td>\n",
       "      <td>0.0</td>\n",
       "    </tr>\n",
       "    <tr>\n",
       "      <th>99</th>\n",
       "      <td>-1.296818</td>\n",
       "      <td>0.184147</td>\n",
       "      <td>0.0</td>\n",
       "    </tr>\n",
       "    <tr>\n",
       "      <th>100</th>\n",
       "      <td>-0.871044</td>\n",
       "      <td>-1.160350</td>\n",
       "      <td>0.0</td>\n",
       "    </tr>\n",
       "  </tbody>\n",
       "</table>\n",
       "<p>101 rows × 3 columns</p>\n",
       "</div>"
      ],
      "text/plain": [
       "            X         Y  Class\n",
       "0    0.031595  0.986988    0.0\n",
       "1    2.115098 -0.046244    1.0\n",
       "2    0.882490 -0.075756    0.0\n",
       "3   -0.055144 -0.037332    1.0\n",
       "4    0.829545 -0.539321    1.0\n",
       "..        ...       ...    ...\n",
       "96   0.218623 -0.652521    1.0\n",
       "97   0.952914 -0.419766    1.0\n",
       "98  -1.318500  0.423112    0.0\n",
       "99  -1.296818  0.184147    0.0\n",
       "100 -0.871044 -1.160350    0.0\n",
       "\n",
       "[101 rows x 3 columns]"
      ]
     },
     "execution_count": 9,
     "metadata": {},
     "output_type": "execute_result"
    }
   ],
   "source": [
    "df"
   ]
  },
  {
   "cell_type": "code",
   "execution_count": null,
   "id": "9bd30809",
   "metadata": {},
   "outputs": [],
   "source": [
    "plt.close()\n",
    "for i in range(0, len(uniqueClass)):\n",
    "    df1 = df.loc[df[\"Class\"] == uniqueClass[i]]\n",
    "    plt.plot(df1[\"X\"].to_numpy(), df1[\"Y\"].to_numpy(), \"+\")"
   ]
  },
  {
   "cell_type": "code",
   "execution_count": 10,
   "id": "a656ed47",
   "metadata": {},
   "outputs": [
    {
     "data": {
      "text/plain": [
       "\"\\n# print(distance0.index(min(distance0)), distance0[distance0.index(min(distance0))])\\n# print(distance1.index(min(distance1)), distance1[distance1.index(min(distance1))])\\nmin_ind0 = distance0.index(min(distance0))\\nmin_ind1 = distance1.index(min(distance1))\\nmin0 = distance0[distance0.index(min(distance0))]\\nmin1 = distance1[distance1.index(min(distance1))]\\nprint(min_ind0, min0)\\nprint(min_ind1, min1)\\n\\nk = 3\\ni = 0\\nclass0 = 0\\nclass1 = 0\\nwhile i < k:\\n    if min0 <= min1:\\n        distance0.pop(min_ind0)\\n        min_ind0 = distance0.index(min(distance0))\\n        min0 = distance0[distance0.index(min(distance0))]\\n        class0 += 1\\n    else:\\n        distance1.pop(min_ind1)\\n        min_ind1 = distance1.index(min(distance1))\\n        min1 = distance1[distance1.index(min(distance1))]\\n        class1 += 1\\n    i += 1\\nif class0 > class1:\\n    df.loc[len(df.index)] = [x, y, 0.0]\\nelse:\\n    df.loc[len(df.index)] = [x, y, 1.0]\\nprint(class0, class1, len(df.loc[(df['Class'] == 0.0)]), len(df.loc[(df['Class'] == 1.0)]))\\n\""
      ]
     },
     "execution_count": 10,
     "metadata": {},
     "output_type": "execute_result"
    }
   ],
   "source": [
    "\"\"\"\n",
    "# print(distance0.index(min(distance0)), distance0[distance0.index(min(distance0))])\n",
    "# print(distance1.index(min(distance1)), distance1[distance1.index(min(distance1))])\n",
    "min_ind0 = distance0.index(min(distance0))\n",
    "min_ind1 = distance1.index(min(distance1))\n",
    "min0 = distance0[distance0.index(min(distance0))]\n",
    "min1 = distance1[distance1.index(min(distance1))]\n",
    "print(min_ind0, min0)\n",
    "print(min_ind1, min1)\n",
    "\n",
    "k = 3\n",
    "i = 0\n",
    "class0 = 0\n",
    "class1 = 0\n",
    "while i < k:\n",
    "    if min0 <= min1:\n",
    "        distance0.pop(min_ind0)\n",
    "        min_ind0 = distance0.index(min(distance0))\n",
    "        min0 = distance0[distance0.index(min(distance0))]\n",
    "        class0 += 1\n",
    "    else:\n",
    "        distance1.pop(min_ind1)\n",
    "        min_ind1 = distance1.index(min(distance1))\n",
    "        min1 = distance1[distance1.index(min(distance1))]\n",
    "        class1 += 1\n",
    "    i += 1\n",
    "if class0 > class1:\n",
    "    df.loc[len(df.index)] = [x, y, 0.0]\n",
    "else:\n",
    "    df.loc[len(df.index)] = [x, y, 1.0]\n",
    "print(class0, class1, len(df.loc[(df['Class'] == 0.0)]), len(df.loc[(df['Class'] == 1.0)]))\n",
    "\"\"\""
   ]
  },
  {
   "cell_type": "code",
   "execution_count": 11,
   "id": "cfe99385",
   "metadata": {},
   "outputs": [
    {
     "data": {
      "text/plain": [
       "2"
      ]
     },
     "execution_count": 11,
     "metadata": {},
     "output_type": "execute_result"
    }
   ],
   "source": [
    "len(df.Class.unique())"
   ]
  },
  {
   "cell_type": "code",
   "execution_count": 12,
   "id": "34581679",
   "metadata": {},
   "outputs": [
    {
     "data": {
      "text/html": [
       "<div>\n",
       "<style scoped>\n",
       "    .dataframe tbody tr th:only-of-type {\n",
       "        vertical-align: middle;\n",
       "    }\n",
       "\n",
       "    .dataframe tbody tr th {\n",
       "        vertical-align: top;\n",
       "    }\n",
       "\n",
       "    .dataframe thead th {\n",
       "        text-align: right;\n",
       "    }\n",
       "</style>\n",
       "<table border=\"1\" class=\"dataframe\">\n",
       "  <thead>\n",
       "    <tr style=\"text-align: right;\">\n",
       "      <th></th>\n",
       "      <th>X</th>\n",
       "      <th>Y</th>\n",
       "      <th>Class</th>\n",
       "    </tr>\n",
       "  </thead>\n",
       "  <tbody>\n",
       "    <tr>\n",
       "      <th>0</th>\n",
       "      <td>0.031595</td>\n",
       "      <td>0.986988</td>\n",
       "      <td>0.0</td>\n",
       "    </tr>\n",
       "    <tr>\n",
       "      <th>1</th>\n",
       "      <td>2.115098</td>\n",
       "      <td>-0.046244</td>\n",
       "      <td>1.0</td>\n",
       "    </tr>\n",
       "    <tr>\n",
       "      <th>2</th>\n",
       "      <td>0.882490</td>\n",
       "      <td>-0.075756</td>\n",
       "      <td>0.0</td>\n",
       "    </tr>\n",
       "    <tr>\n",
       "      <th>3</th>\n",
       "      <td>-0.055144</td>\n",
       "      <td>-0.037332</td>\n",
       "      <td>1.0</td>\n",
       "    </tr>\n",
       "    <tr>\n",
       "      <th>4</th>\n",
       "      <td>0.829545</td>\n",
       "      <td>-0.539321</td>\n",
       "      <td>1.0</td>\n",
       "    </tr>\n",
       "    <tr>\n",
       "      <th>...</th>\n",
       "      <td>...</td>\n",
       "      <td>...</td>\n",
       "      <td>...</td>\n",
       "    </tr>\n",
       "    <tr>\n",
       "      <th>96</th>\n",
       "      <td>0.218623</td>\n",
       "      <td>-0.652521</td>\n",
       "      <td>1.0</td>\n",
       "    </tr>\n",
       "    <tr>\n",
       "      <th>97</th>\n",
       "      <td>0.952914</td>\n",
       "      <td>-0.419766</td>\n",
       "      <td>1.0</td>\n",
       "    </tr>\n",
       "    <tr>\n",
       "      <th>98</th>\n",
       "      <td>-1.318500</td>\n",
       "      <td>0.423112</td>\n",
       "      <td>0.0</td>\n",
       "    </tr>\n",
       "    <tr>\n",
       "      <th>99</th>\n",
       "      <td>-1.296818</td>\n",
       "      <td>0.184147</td>\n",
       "      <td>0.0</td>\n",
       "    </tr>\n",
       "    <tr>\n",
       "      <th>100</th>\n",
       "      <td>-0.871044</td>\n",
       "      <td>-1.160350</td>\n",
       "      <td>0.0</td>\n",
       "    </tr>\n",
       "  </tbody>\n",
       "</table>\n",
       "<p>101 rows × 3 columns</p>\n",
       "</div>"
      ],
      "text/plain": [
       "            X         Y  Class\n",
       "0    0.031595  0.986988    0.0\n",
       "1    2.115098 -0.046244    1.0\n",
       "2    0.882490 -0.075756    0.0\n",
       "3   -0.055144 -0.037332    1.0\n",
       "4    0.829545 -0.539321    1.0\n",
       "..        ...       ...    ...\n",
       "96   0.218623 -0.652521    1.0\n",
       "97   0.952914 -0.419766    1.0\n",
       "98  -1.318500  0.423112    0.0\n",
       "99  -1.296818  0.184147    0.0\n",
       "100 -0.871044 -1.160350    0.0\n",
       "\n",
       "[101 rows x 3 columns]"
      ]
     },
     "execution_count": 12,
     "metadata": {},
     "output_type": "execute_result"
    }
   ],
   "source": [
    "df"
   ]
  },
  {
   "cell_type": "code",
   "execution_count": null,
   "id": "cb0fdcd2",
   "metadata": {},
   "outputs": [],
   "source": []
  }
 ],
 "metadata": {
  "kernelspec": {
   "display_name": "Python 3",
   "language": "python",
   "name": "python3"
  },
  "language_info": {
   "codemirror_mode": {
    "name": "ipython",
    "version": 3
   },
   "file_extension": ".py",
   "mimetype": "text/x-python",
   "name": "python",
   "nbconvert_exporter": "python",
   "pygments_lexer": "ipython3",
   "version": "3.8.8"
  }
 },
 "nbformat": 4,
 "nbformat_minor": 5
}
