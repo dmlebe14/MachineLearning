{
 "cells": [
  {
   "cell_type": "code",
   "execution_count": 1,
   "id": "aed2624e",
   "metadata": {
    "_cell_guid": "b1076dfc-b9ad-4769-8c92-a6c4dae69d19",
    "_uuid": "8f2839f25d086af736a60e9eeb907d3b93b6e0e5",
    "execution": {
     "iopub.execute_input": "2023-10-29T15:33:37.464369Z",
     "iopub.status.busy": "2023-10-29T15:33:37.463956Z",
     "iopub.status.idle": "2023-10-29T15:33:39.859510Z",
     "shell.execute_reply": "2023-10-29T15:33:39.858348Z"
    },
    "papermill": {
     "duration": 2.408649,
     "end_time": "2023-10-29T15:33:39.863444",
     "exception": false,
     "start_time": "2023-10-29T15:33:37.454795",
     "status": "completed"
    },
    "tags": []
   },
   "outputs": [
    {
     "name": "stdout",
     "output_type": "stream",
     "text": [
      "/kaggle/input/language-detection/Language Detection.csv\n"
     ]
    }
   ],
   "source": [
    "# This Python 3 environment comes with many helpful analytics libraries installed\n",
    "# It is defined by the kaggle/python Docker image: https://github.com/kaggle/docker-python\n",
    "# For example, here's several helpful packages to load\n",
    "\n",
    "import numpy as np # linear algebra\n",
    "import pandas as pd # data processing, CSV file I/O (e.g. pd.read_csv)\n",
    "import matplotlib.pyplot as plt\n",
    "import seaborn as sns\n",
    "import re\n",
    "from sklearn.feature_extraction.text import TfidfVectorizer\n",
    "from sklearn.model_selection import train_test_split\n",
    "from sklearn.ensemble import RandomForestClassifier\n",
    "from sklearn.preprocessing import LabelEncoder\n",
    "\n",
    "# Input data files are available in the read-only \"../input/\" directory\n",
    "# For example, running this (by clicking run or pressing Shift+Enter) will list all files under the input directory\n",
    "\n",
    "import os\n",
    "for dirname, _, filenames in os.walk('/kaggle/input'):\n",
    "    for filename in filenames:\n",
    "        print(os.path.join(dirname, filename))\n",
    "\n",
    "# You can write up to 20GB to the current directory (/kaggle/working/) that gets preserved as output when you create a version using \"Save & Run All\" \n",
    "# You can also write temporary files to /kaggle/temp/, but they won't be saved outside of the current session"
   ]
  },
  {
   "cell_type": "code",
   "execution_count": 2,
   "id": "3ea2c6b0",
   "metadata": {
    "execution": {
     "iopub.execute_input": "2023-10-29T15:33:39.879914Z",
     "iopub.status.busy": "2023-10-29T15:33:39.878772Z",
     "iopub.status.idle": "2023-10-29T15:33:39.986240Z",
     "shell.execute_reply": "2023-10-29T15:33:39.985330Z"
    },
    "papermill": {
     "duration": 0.118117,
     "end_time": "2023-10-29T15:33:39.988623",
     "exception": false,
     "start_time": "2023-10-29T15:33:39.870506",
     "status": "completed"
    },
    "tags": []
   },
   "outputs": [
    {
     "data": {
      "text/html": [
       "<div>\n",
       "<style scoped>\n",
       "    .dataframe tbody tr th:only-of-type {\n",
       "        vertical-align: middle;\n",
       "    }\n",
       "\n",
       "    .dataframe tbody tr th {\n",
       "        vertical-align: top;\n",
       "    }\n",
       "\n",
       "    .dataframe thead th {\n",
       "        text-align: right;\n",
       "    }\n",
       "</style>\n",
       "<table border=\"1\" class=\"dataframe\">\n",
       "  <thead>\n",
       "    <tr style=\"text-align: right;\">\n",
       "      <th></th>\n",
       "      <th>Text</th>\n",
       "      <th>Language</th>\n",
       "    </tr>\n",
       "  </thead>\n",
       "  <tbody>\n",
       "    <tr>\n",
       "      <th>0</th>\n",
       "      <td>Nature, in the broadest sense, is the natural...</td>\n",
       "      <td>English</td>\n",
       "    </tr>\n",
       "    <tr>\n",
       "      <th>1</th>\n",
       "      <td>\"Nature\" can refer to the phenomena of the phy...</td>\n",
       "      <td>English</td>\n",
       "    </tr>\n",
       "    <tr>\n",
       "      <th>2</th>\n",
       "      <td>The study of nature is a large, if not the onl...</td>\n",
       "      <td>English</td>\n",
       "    </tr>\n",
       "    <tr>\n",
       "      <th>3</th>\n",
       "      <td>Although humans are part of nature, human acti...</td>\n",
       "      <td>English</td>\n",
       "    </tr>\n",
       "    <tr>\n",
       "      <th>4</th>\n",
       "      <td>[1] The word nature is borrowed from the Old F...</td>\n",
       "      <td>English</td>\n",
       "    </tr>\n",
       "    <tr>\n",
       "      <th>...</th>\n",
       "      <td>...</td>\n",
       "      <td>...</td>\n",
       "    </tr>\n",
       "    <tr>\n",
       "      <th>10332</th>\n",
       "      <td>ನಿಮ್ಮ ತಪ್ಪು ಏನು ಬಂದಿದೆಯೆಂದರೆ ಆ ದಿನದಿಂದ ನಿಮಗೆ ಒ...</td>\n",
       "      <td>Kannada</td>\n",
       "    </tr>\n",
       "    <tr>\n",
       "      <th>10333</th>\n",
       "      <td>ನಾರ್ಸಿಸಾ ತಾನು ಮೊದಲಿಗೆ ಹೆಣಗಾಡುತ್ತಿದ್ದ ಮಾರ್ಗಗಳನ್...</td>\n",
       "      <td>Kannada</td>\n",
       "    </tr>\n",
       "    <tr>\n",
       "      <th>10334</th>\n",
       "      <td>ಹೇಗೆ ' ನಾರ್ಸಿಸಿಸಮ್ ಈಗ ಮರಿಯನ್ ಅವರಿಗೆ ಸಂಭವಿಸಿದ ಎ...</td>\n",
       "      <td>Kannada</td>\n",
       "    </tr>\n",
       "    <tr>\n",
       "      <th>10335</th>\n",
       "      <td>ಅವಳು ಈಗ ಹೆಚ್ಚು ಚಿನ್ನದ ಬ್ರೆಡ್ ಬಯಸುವುದಿಲ್ಲ ಎಂದು ...</td>\n",
       "      <td>Kannada</td>\n",
       "    </tr>\n",
       "    <tr>\n",
       "      <th>10336</th>\n",
       "      <td>ಟೆರ್ರಿ ನೀವು ನಿಜವಾಗಿಯೂ ಆ ದೇವದೂತನಂತೆ ಸ್ವಲ್ಪ ಕಾಣು...</td>\n",
       "      <td>Kannada</td>\n",
       "    </tr>\n",
       "  </tbody>\n",
       "</table>\n",
       "<p>10337 rows × 2 columns</p>\n",
       "</div>"
      ],
      "text/plain": [
       "                                                    Text Language\n",
       "0       Nature, in the broadest sense, is the natural...  English\n",
       "1      \"Nature\" can refer to the phenomena of the phy...  English\n",
       "2      The study of nature is a large, if not the onl...  English\n",
       "3      Although humans are part of nature, human acti...  English\n",
       "4      [1] The word nature is borrowed from the Old F...  English\n",
       "...                                                  ...      ...\n",
       "10332  ನಿಮ್ಮ ತಪ್ಪು ಏನು ಬಂದಿದೆಯೆಂದರೆ ಆ ದಿನದಿಂದ ನಿಮಗೆ ಒ...  Kannada\n",
       "10333  ನಾರ್ಸಿಸಾ ತಾನು ಮೊದಲಿಗೆ ಹೆಣಗಾಡುತ್ತಿದ್ದ ಮಾರ್ಗಗಳನ್...  Kannada\n",
       "10334  ಹೇಗೆ ' ನಾರ್ಸಿಸಿಸಮ್ ಈಗ ಮರಿಯನ್ ಅವರಿಗೆ ಸಂಭವಿಸಿದ ಎ...  Kannada\n",
       "10335  ಅವಳು ಈಗ ಹೆಚ್ಚು ಚಿನ್ನದ ಬ್ರೆಡ್ ಬಯಸುವುದಿಲ್ಲ ಎಂದು ...  Kannada\n",
       "10336  ಟೆರ್ರಿ ನೀವು ನಿಜವಾಗಿಯೂ ಆ ದೇವದೂತನಂತೆ ಸ್ವಲ್ಪ ಕಾಣು...  Kannada\n",
       "\n",
       "[10337 rows x 2 columns]"
      ]
     },
     "execution_count": 2,
     "metadata": {},
     "output_type": "execute_result"
    }
   ],
   "source": [
    "# Load the dataset\n",
    "df = pd.read_csv(\"/kaggle/input/language-detection/Language Detection.csv\")\n",
    "df"
   ]
  },
  {
   "cell_type": "code",
   "execution_count": 3,
   "id": "2baf7b01",
   "metadata": {
    "execution": {
     "iopub.execute_input": "2023-10-29T15:33:40.005683Z",
     "iopub.status.busy": "2023-10-29T15:33:40.004580Z",
     "iopub.status.idle": "2023-10-29T15:33:40.031415Z",
     "shell.execute_reply": "2023-10-29T15:33:40.029999Z"
    },
    "papermill": {
     "duration": 0.038199,
     "end_time": "2023-10-29T15:33:40.034179",
     "exception": false,
     "start_time": "2023-10-29T15:33:39.995980",
     "status": "completed"
    },
    "tags": []
   },
   "outputs": [
    {
     "name": "stdout",
     "output_type": "stream",
     "text": [
      "<class 'pandas.core.frame.DataFrame'>\n",
      "RangeIndex: 10337 entries, 0 to 10336\n",
      "Data columns (total 2 columns):\n",
      " #   Column    Non-Null Count  Dtype \n",
      "---  ------    --------------  ----- \n",
      " 0   Text      10337 non-null  object\n",
      " 1   Language  10337 non-null  object\n",
      "dtypes: object(2)\n",
      "memory usage: 161.6+ KB\n"
     ]
    }
   ],
   "source": [
    "df.info()"
   ]
  },
  {
   "cell_type": "code",
   "execution_count": 4,
   "id": "e1eb6a2e",
   "metadata": {
    "execution": {
     "iopub.execute_input": "2023-10-29T15:33:40.051237Z",
     "iopub.status.busy": "2023-10-29T15:33:40.050819Z",
     "iopub.status.idle": "2023-10-29T15:33:40.060454Z",
     "shell.execute_reply": "2023-10-29T15:33:40.059252Z"
    },
    "papermill": {
     "duration": 0.021433,
     "end_time": "2023-10-29T15:33:40.063244",
     "exception": false,
     "start_time": "2023-10-29T15:33:40.041811",
     "status": "completed"
    },
    "tags": []
   },
   "outputs": [
    {
     "name": "stdout",
     "output_type": "stream",
     "text": [
      "List of all languages:\n",
      "English\n",
      "Malayalam\n",
      "Hindi\n",
      "Tamil\n",
      "Portugeese\n",
      "French\n",
      "Dutch\n",
      "Spanish\n",
      "Greek\n",
      "Russian\n",
      "Danish\n",
      "Italian\n",
      "Turkish\n",
      "Sweedish\n",
      "Arabic\n",
      "German\n",
      "Kannada\n",
      "In the data frame there are 17 in total.\n"
     ]
    }
   ],
   "source": [
    "print(\"List of all languages:\")\n",
    "for lang in df['Language'].unique(): \n",
    "    print(lang)\n",
    "print(\"In the data frame there are\", len(df['Language'].unique()), \"in total.\")"
   ]
  },
  {
   "cell_type": "code",
   "execution_count": 5,
   "id": "a4141985",
   "metadata": {
    "execution": {
     "iopub.execute_input": "2023-10-29T15:33:40.080531Z",
     "iopub.status.busy": "2023-10-29T15:33:40.079856Z",
     "iopub.status.idle": "2023-10-29T15:33:40.091253Z",
     "shell.execute_reply": "2023-10-29T15:33:40.090132Z"
    },
    "papermill": {
     "duration": 0.022697,
     "end_time": "2023-10-29T15:33:40.093524",
     "exception": false,
     "start_time": "2023-10-29T15:33:40.070827",
     "status": "completed"
    },
    "tags": []
   },
   "outputs": [
    {
     "data": {
      "text/plain": [
       "Text        0\n",
       "Language    0\n",
       "dtype: int64"
      ]
     },
     "execution_count": 5,
     "metadata": {},
     "output_type": "execute_result"
    }
   ],
   "source": [
    "df.isnull().sum()"
   ]
  },
  {
   "cell_type": "code",
   "execution_count": 6,
   "id": "941ad911",
   "metadata": {
    "execution": {
     "iopub.execute_input": "2023-10-29T15:33:40.110999Z",
     "iopub.status.busy": "2023-10-29T15:33:40.110582Z",
     "iopub.status.idle": "2023-10-29T15:33:40.133310Z",
     "shell.execute_reply": "2023-10-29T15:33:40.132156Z"
    },
    "papermill": {
     "duration": 0.034744,
     "end_time": "2023-10-29T15:33:40.135740",
     "exception": false,
     "start_time": "2023-10-29T15:33:40.100996",
     "status": "completed"
    },
    "tags": []
   },
   "outputs": [
    {
     "name": "stdout",
     "output_type": "stream",
     "text": [
      "66 row(s) have been dropped.\n"
     ]
    }
   ],
   "source": [
    "len1 = len(df)\n",
    "df.drop(df[df.duplicated()].index, axis=0, inplace=True)\n",
    "len2 = len(df)\n",
    "print(len1 - len2, \"row(s) have been dropped.\")"
   ]
  },
  {
   "cell_type": "code",
   "execution_count": 7,
   "id": "904b7c1c",
   "metadata": {
    "execution": {
     "iopub.execute_input": "2023-10-29T15:33:40.152705Z",
     "iopub.status.busy": "2023-10-29T15:33:40.152337Z",
     "iopub.status.idle": "2023-10-29T15:33:40.560819Z",
     "shell.execute_reply": "2023-10-29T15:33:40.559830Z"
    },
    "papermill": {
     "duration": 0.419734,
     "end_time": "2023-10-29T15:33:40.563075",
     "exception": false,
     "start_time": "2023-10-29T15:33:40.143341",
     "status": "completed"
    },
    "tags": []
   },
   "outputs": [
    {
     "data": {
      "image/png": "[encoded data removed]",
      "text/plain": [
       "<Figure size 640x480 with 1 Axes>"
      ]
     },
     "metadata": {},
     "output_type": "display_data"
    }
   ],
   "source": [
    "sns.barplot(x=df['Language'].value_counts().index, y=df['Language'].value_counts())\n",
    "plt.xlabel('Language')\n",
    "plt.ylabel('Number of Texts')\n",
    "plt.xticks(rotation=90)\n",
    "plt.show()"
   ]
  },
  {
   "cell_type": "code",
   "execution_count": 8,
   "id": "4f2fa338",
   "metadata": {
    "execution": {
     "iopub.execute_input": "2023-10-29T15:33:40.581792Z",
     "iopub.status.busy": "2023-10-29T15:33:40.580926Z",
     "iopub.status.idle": "2023-10-29T15:33:40.589243Z",
     "shell.execute_reply": "2023-10-29T15:33:40.588148Z"
    },
    "papermill": {
     "duration": 0.019947,
     "end_time": "2023-10-29T15:33:40.591369",
     "exception": false,
     "start_time": "2023-10-29T15:33:40.571422",
     "status": "completed"
    },
    "tags": []
   },
   "outputs": [],
   "source": [
    "# Correction of a spelling error\n",
    "df[df[\"Language\"] == 'Sweedish'] = 'Swedish'"
   ]
  },
  {
   "cell_type": "code",
   "execution_count": 9,
   "id": "3fc8c101",
   "metadata": {
    "execution": {
     "iopub.execute_input": "2023-10-29T15:33:40.610219Z",
     "iopub.status.busy": "2023-10-29T15:33:40.609747Z",
     "iopub.status.idle": "2023-10-29T15:33:40.932177Z",
     "shell.execute_reply": "2023-10-29T15:33:40.930230Z"
    },
    "papermill": {
     "duration": 0.33752,
     "end_time": "2023-10-29T15:33:40.937226",
     "exception": false,
     "start_time": "2023-10-29T15:33:40.599706",
     "status": "completed"
    },
    "tags": []
   },
   "outputs": [
    {
     "data": {
      "image/png": "[encoded data removed]",
      "text/plain": [
       "<Figure size 640x480 with 1 Axes>"
      ]
     },
     "metadata": {},
     "output_type": "display_data"
    }
   ],
   "source": [
    "colors = sns.color_palette('bright')[0:len(df['Language'].unique())]\n",
    "\n",
    "#create pie chart\n",
    "plt.pie(df['Language'].value_counts(), labels = df['Language'].value_counts().index, colors = colors, autopct='%.0f%%')\n",
    "plt.show()"
   ]
  },
  {
   "cell_type": "code",
   "execution_count": 10,
   "id": "eb8bf355",
   "metadata": {
    "execution": {
     "iopub.execute_input": "2023-10-29T15:33:40.957774Z",
     "iopub.status.busy": "2023-10-29T15:33:40.957342Z",
     "iopub.status.idle": "2023-10-29T15:33:41.036390Z",
     "shell.execute_reply": "2023-10-29T15:33:41.035449Z"
    },
    "papermill": {
     "duration": 0.092517,
     "end_time": "2023-10-29T15:33:41.039198",
     "exception": false,
     "start_time": "2023-10-29T15:33:40.946681",
     "status": "completed"
    },
    "tags": []
   },
   "outputs": [],
   "source": [
    "# Text data preprocessing\n",
    "df['Text'] = df['Text'].str.lower()\n",
    "df['Text'] = df['Text'].str.replace(r'[\\([{})\\]!@#$,\"%^*?:;~`0-9]', '', regex=True)\n",
    "df['Text'] = df['Text'].str.strip()"
   ]
  },
  {
   "cell_type": "code",
   "execution_count": 11,
   "id": "5fbd3c05",
   "metadata": {
    "execution": {
     "iopub.execute_input": "2023-10-29T15:33:41.059748Z",
     "iopub.status.busy": "2023-10-29T15:33:41.059330Z",
     "iopub.status.idle": "2023-10-29T15:33:41.797718Z",
     "shell.execute_reply": "2023-10-29T15:33:41.796817Z"
    },
    "papermill": {
     "duration": 0.75177,
     "end_time": "2023-10-29T15:33:41.800290",
     "exception": false,
     "start_time": "2023-10-29T15:33:41.048520",
     "status": "completed"
    },
    "tags": []
   },
   "outputs": [],
   "source": [
    "# The TF-IDF vectorizer initializing \n",
    "tfidf_vectorizer = TfidfVectorizer()\n",
    "tfidf_vectorizer.fit(df['Text'])\n",
    "X_tfidf = tfidf_vectorizer.transform(df['Text'])"
   ]
  },
  {
   "cell_type": "code",
   "execution_count": 12,
   "id": "8efaf922",
   "metadata": {
    "execution": {
     "iopub.execute_input": "2023-10-29T15:33:41.822554Z",
     "iopub.status.busy": "2023-10-29T15:33:41.821475Z",
     "iopub.status.idle": "2023-10-29T15:33:41.830765Z",
     "shell.execute_reply": "2023-10-29T15:33:41.829553Z"
    },
    "papermill": {
     "duration": 0.023114,
     "end_time": "2023-10-29T15:33:41.833292",
     "exception": false,
     "start_time": "2023-10-29T15:33:41.810178",
     "status": "completed"
    },
    "tags": []
   },
   "outputs": [],
   "source": [
    "# Encoding the target labels (languages)\n",
    "label_encoder = LabelEncoder()\n",
    "Y_encoded = label_encoder.fit_transform(df['Language'])"
   ]
  },
  {
   "cell_type": "code",
   "execution_count": 13,
   "id": "561a4995",
   "metadata": {
    "execution": {
     "iopub.execute_input": "2023-10-29T15:33:41.854972Z",
     "iopub.status.busy": "2023-10-29T15:33:41.854558Z",
     "iopub.status.idle": "2023-10-29T15:33:41.863764Z",
     "shell.execute_reply": "2023-10-29T15:33:41.862616Z"
    },
    "papermill": {
     "duration": 0.022982,
     "end_time": "2023-10-29T15:33:41.866309",
     "exception": false,
     "start_time": "2023-10-29T15:33:41.843327",
     "status": "completed"
    },
    "tags": []
   },
   "outputs": [],
   "source": [
    "# Data splitting\n",
    "X_train, X_test, Y_train, Y_test = train_test_split(X_tfidf, Y_encoded, test_size=0.2, random_state=42)"
   ]
  },
  {
   "cell_type": "code",
   "execution_count": 14,
   "id": "0d40ce9c",
   "metadata": {
    "execution": {
     "iopub.execute_input": "2023-10-29T15:33:41.886635Z",
     "iopub.status.busy": "2023-10-29T15:33:41.885839Z",
     "iopub.status.idle": "2023-10-29T15:34:03.932186Z",
     "shell.execute_reply": "2023-10-29T15:34:03.930695Z"
    },
    "papermill": {
     "duration": 22.061282,
     "end_time": "2023-10-29T15:34:03.936755",
     "exception": false,
     "start_time": "2023-10-29T15:33:41.875473",
     "status": "completed"
    },
    "tags": []
   },
   "outputs": [
    {
     "data": {
      "text/html": [
       "<style>#sk-container-id-1 {color: black;background-color: white;}#sk-container-id-1 pre{padding: 0;}#sk-container-id-1 div.sk-toggleable {background-color: white;}#sk-container-id-1 label.sk-toggleable__label {cursor: pointer;display: block;width: 100%;margin-bottom: 0;padding: 0.3em;box-sizing: border-box;text-align: center;}#sk-container-id-1 label.sk-toggleable__label-arrow:before {content: \"▸\";float: left;margin-right: 0.25em;color: #696969;}#sk-container-id-1 label.sk-toggleable__label-arrow:hover:before {color: black;}#sk-container-id-1 div.sk-estimator:hover label.sk-toggleable__label-arrow:before {color: black;}#sk-container-id-1 div.sk-toggleable__content {max-height: 0;max-width: 0;overflow: hidden;text-align: left;background-color: #f0f8ff;}#sk-container-id-1 div.sk-toggleable__content pre {margin: 0.2em;color: black;border-radius: 0.25em;background-color: #f0f8ff;}#sk-container-id-1 input.sk-toggleable__control:checked~div.sk-toggleable__content {max-height: 200px;max-width: 100%;overflow: auto;}#sk-container-id-1 input.sk-toggleable__control:checked~label.sk-toggleable__label-arrow:before {content: \"▾\";}#sk-container-id-1 div.sk-estimator input.sk-toggleable__control:checked~label.sk-toggleable__label {background-color: #d4ebff;}#sk-container-id-1 div.sk-label input.sk-toggleable__control:checked~label.sk-toggleable__label {background-color: #d4ebff;}#sk-container-id-1 input.sk-hidden--visually {border: 0;clip: rect(1px 1px 1px 1px);clip: rect(1px, 1px, 1px, 1px);height: 1px;margin: -1px;overflow: hidden;padding: 0;position: absolute;width: 1px;}#sk-container-id-1 div.sk-estimator {font-family: monospace;background-color: #f0f8ff;border: 1px dotted black;border-radius: 0.25em;box-sizing: border-box;margin-bottom: 0.5em;}#sk-container-id-1 div.sk-estimator:hover {background-color: #d4ebff;}#sk-container-id-1 div.sk-parallel-item::after {content: \"\";width: 100%;border-bottom: 1px solid gray;flex-grow: 1;}#sk-container-id-1 div.sk-label:hover label.sk-toggleable__label {background-color: #d4ebff;}#sk-container-id-1 div.sk-serial::before {content: \"\";position: absolute;border-left: 1px solid gray;box-sizing: border-box;top: 0;bottom: 0;left: 50%;z-index: 0;}#sk-container-id-1 div.sk-serial {display: flex;flex-direction: column;align-items: center;background-color: white;padding-right: 0.2em;padding-left: 0.2em;position: relative;}#sk-container-id-1 div.sk-item {position: relative;z-index: 1;}#sk-container-id-1 div.sk-parallel {display: flex;align-items: stretch;justify-content: center;background-color: white;position: relative;}#sk-container-id-1 div.sk-item::before, #sk-container-id-1 div.sk-parallel-item::before {content: \"\";position: absolute;border-left: 1px solid gray;box-sizing: border-box;top: 0;bottom: 0;left: 50%;z-index: -1;}#sk-container-id-1 div.sk-parallel-item {display: flex;flex-direction: column;z-index: 1;position: relative;background-color: white;}#sk-container-id-1 div.sk-parallel-item:first-child::after {align-self: flex-end;width: 50%;}#sk-container-id-1 div.sk-parallel-item:last-child::after {align-self: flex-start;width: 50%;}#sk-container-id-1 div.sk-parallel-item:only-child::after {width: 0;}#sk-container-id-1 div.sk-dashed-wrapped {border: 1px dashed gray;margin: 0 0.4em 0.5em 0.4em;box-sizing: border-box;padding-bottom: 0.4em;background-color: white;}#sk-container-id-1 div.sk-label label {font-family: monospace;font-weight: bold;display: inline-block;line-height: 1.2em;}#sk-container-id-1 div.sk-label-container {text-align: center;}#sk-container-id-1 div.sk-container {/* jupyter's `normalize.less` sets `[hidden] { display: none; }` but bootstrap.min.css set `[hidden] { display: none !important; }` so we also need the `!important` here to be able to override the default hidden behavior on the sphinx rendered scikit-learn.org. See: https://github.com/scikit-learn/scikit-learn/issues/21755 */display: inline-block !important;position: relative;}#sk-container-id-1 div.sk-text-repr-fallback {display: none;}</style><div id=\"sk-container-id-1\" class=\"sk-top-container\"><div class=\"sk-text-repr-fallback\"><pre>RandomForestClassifier()</pre><b>In a Jupyter environment, please rerun this cell to show the HTML representation or trust the notebook. <br />On GitHub, the HTML representation is unable to render, please try loading this page with nbviewer.org.</b></div><div class=\"sk-container\" hidden><div class=\"sk-item\"><div class=\"sk-estimator sk-toggleable\"><input class=\"sk-toggleable__control sk-hidden--visually\" id=\"sk-estimator-id-1\" type=\"checkbox\" checked><label for=\"sk-estimator-id-1\" class=\"sk-toggleable__label sk-toggleable__label-arrow\">RandomForestClassifier</label><div class=\"sk-toggleable__content\"><pre>RandomForestClassifier()</pre></div></div></div></div></div>"
      ],
      "text/plain": [
       "RandomForestClassifier()"
      ]
     },
     "execution_count": 14,
     "metadata": {},
     "output_type": "execute_result"
    }
   ],
   "source": [
    "# the Random Forest Classifier\n",
    "random_forest = RandomForestClassifier(n_estimators=100)\n",
    "random_forest.fit(X_train, Y_train)"
   ]
  },
  {
   "cell_type": "code",
   "execution_count": 15,
   "id": "f4349218",
   "metadata": {
    "execution": {
     "iopub.execute_input": "2023-10-29T15:34:03.964926Z",
     "iopub.status.busy": "2023-10-29T15:34:03.964498Z",
     "iopub.status.idle": "2023-10-29T15:34:03.971004Z",
     "shell.execute_reply": "2023-10-29T15:34:03.969893Z"
    },
    "papermill": {
     "duration": 0.021163,
     "end_time": "2023-10-29T15:34:03.973338",
     "exception": false,
     "start_time": "2023-10-29T15:34:03.952175",
     "status": "completed"
    },
    "tags": []
   },
   "outputs": [],
   "source": [
    "# A function to predict a randomly given text\n",
    "def predict_language(input_text):\n",
    "    preprocessed_text = input_text.lower()\n",
    "    input_tfidf = tfidf_vectorizer.transform([preprocessed_text])\n",
    "    predicted_language_encoded = random_forest.predict(input_tfidf)\n",
    "    predicted_language = label_encoder.inverse_transform(predicted_language_encoded)\n",
    "    return predicted_language[0]"
   ]
  },
  {
   "cell_type": "code",
   "execution_count": 16,
   "id": "fb03e430",
   "metadata": {
    "execution": {
     "iopub.execute_input": "2023-10-29T15:34:03.994661Z",
     "iopub.status.busy": "2023-10-29T15:34:03.993589Z",
     "iopub.status.idle": "2023-10-29T15:34:04.011769Z",
     "shell.execute_reply": "2023-10-29T15:34:04.010612Z"
    },
    "papermill": {
     "duration": 0.031799,
     "end_time": "2023-10-29T15:34:04.014562",
     "exception": false,
     "start_time": "2023-10-29T15:34:03.982763",
     "status": "completed"
    },
    "tags": []
   },
   "outputs": [
    {
     "name": "stdout",
     "output_type": "stream",
     "text": [
      "Predicted Language: Russian\n",
      "Отлично!\n"
     ]
    }
   ],
   "source": [
    "# Text predictions: here and below\n",
    "input_text = \"Привет! Как дела? Чем сейчас занимаешься?\"\n",
    "predicted_language = predict_language(input_text)\n",
    "print(\"Predicted Language:\", predicted_language)\n",
    "if predicted_language == 'Russian':\n",
    "    print(\"Отлично!\")"
   ]
  },
  {
   "cell_type": "code",
   "execution_count": 17,
   "id": "bc4eb84d",
   "metadata": {
    "execution": {
     "iopub.execute_input": "2023-10-29T15:34:04.035855Z",
     "iopub.status.busy": "2023-10-29T15:34:04.035429Z",
     "iopub.status.idle": "2023-10-29T15:34:04.051962Z",
     "shell.execute_reply": "2023-10-29T15:34:04.050847Z"
    },
    "papermill": {
     "duration": 0.029795,
     "end_time": "2023-10-29T15:34:04.054185",
     "exception": false,
     "start_time": "2023-10-29T15:34:04.024390",
     "status": "completed"
    },
    "tags": []
   },
   "outputs": [
    {
     "name": "stdout",
     "output_type": "stream",
     "text": [
      "Predicted Language: French\n",
      "Parfait!\n"
     ]
    }
   ],
   "source": [
    "# It must be French\n",
    "input_text = \"Salut, ça va? Qu'est-ce que tu fais maintenant?\"\n",
    "predicted_language = predict_language(input_text)\n",
    "print(\"Predicted Language:\", predicted_language)\n",
    "if predicted_language == 'French':\n",
    "    print(\"Parfait!\")"
   ]
  },
  {
   "cell_type": "code",
   "execution_count": 18,
   "id": "10a06747",
   "metadata": {
    "execution": {
     "iopub.execute_input": "2023-10-29T15:34:04.074893Z",
     "iopub.status.busy": "2023-10-29T15:34:04.074499Z",
     "iopub.status.idle": "2023-10-29T15:34:04.090775Z",
     "shell.execute_reply": "2023-10-29T15:34:04.089501Z"
    },
    "papermill": {
     "duration": 0.029233,
     "end_time": "2023-10-29T15:34:04.093002",
     "exception": false,
     "start_time": "2023-10-29T15:34:04.063769",
     "status": "completed"
    },
    "tags": []
   },
   "outputs": [
    {
     "name": "stdout",
     "output_type": "stream",
     "text": [
      "Predicted Language: German\n",
      "Sehr gut!\n"
     ]
    }
   ],
   "source": [
    "# Whereas this must be German\n",
    "input_text = \"Hallo, wie geht's dir? Was machst du gerade?\"\n",
    "predicted_language = predict_language(input_text)\n",
    "print(\"Predicted Language:\", predicted_language)\n",
    "if predicted_language == 'German':\n",
    "    print(\"Sehr gut!\")"
   ]
  },
  {
   "cell_type": "markdown",
   "id": "6de44cdd",
   "metadata": {
    "papermill": {
     "duration": 0.009324,
     "end_time": "2023-10-29T15:34:04.111953",
     "exception": false,
     "start_time": "2023-10-29T15:34:04.102629",
     "status": "completed"
    },
    "tags": []
   },
   "source": [
    "**If you find this notebook useful, please consider up-voting. I would really appreciate it. Have a nice day!**"
   ]
  }
 ],
 "metadata": {
  "kernelspec": {
   "display_name": "Python 3",
   "language": "python",
   "name": "python3"
  },
  "language_info": {
   "codemirror_mode": {
    "name": "ipython",
    "version": 3
   },
   "file_extension": ".py",
   "mimetype": "text/x-python",
   "name": "python",
   "nbconvert_exporter": "python",
   "pygments_lexer": "ipython3",
   "version": "3.10.12"
  },
  "papermill": {
   "default_parameters": {},
   "duration": 30.865965,
   "end_time": "2023-10-29T15:34:04.742684",
   "environment_variables": {},
   "exception": null,
   "input_path": "__notebook__.ipynb",
   "output_path": "__notebook__.ipynb",
   "parameters": {},
   "start_time": "2023-10-29T15:33:33.876719",
   "version": "2.4.0"
  }
 },
 "nbformat": 4,
 "nbformat_minor": 5
}
